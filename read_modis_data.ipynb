{
 "cells": [
  {
   "cell_type": "code",
   "execution_count": 48,
   "metadata": {},
   "outputs": [],
   "source": [
    "import glob\n",
    "import os\n",
    "import scipy.stats as stats\n",
    "import numpy as np\n",
    "import matplotlib.pyplot as plt\n",
    "import xarray as xr\n",
    "import pandas as pd\n",
    "from tqdm import tqdm as tqdm\n",
    "from netCDF4 import Dataset"
   ]
  },
  {
   "cell_type": "code",
   "execution_count": 58,
   "metadata": {},
   "outputs": [],
   "source": [
    "dirname = '/glusteruser/aibrahi2/MOBY_vcal/L2_v2/'"
   ]
  },
  {
   "cell_type": "code",
   "execution_count": 59,
   "metadata": {},
   "outputs": [],
   "source": [
    "filenames = []\n",
    "order = []\n",
    "for i, filename in enumerate(glob.glob(dirname + '*.nc')):\n",
    "    if os.path.getsize(filename)*1e-9 > 0.00:\n",
    "        filenames.append(filename)\n",
    "    order.append(np.int(str.split(str.split(filename,'/')[-1], '_')[0]))\n",
    "ix = np.argsort(np.array(order))\n",
    "min_ = np.sort(np.array(order)).min()\n",
    "max_ = np.sort(np.array(order)).max()\n",
    "sort_order = np.arange(min_,max_+1)\n",
    "sorted_fnames = []\n",
    "c=0\n",
    "for i, num in enumerate(sort_order):\n",
    "    if num in np.sort(np.array(order)):\n",
    "        sorted_fnames.append(filenames[ix[c]])\n",
    "        c += 1\n",
    "    else:\n",
    "        sorted_fnames.append('NA')"
   ]
  },
  {
   "cell_type": "code",
   "execution_count": 60,
   "metadata": {},
   "outputs": [],
   "source": [
    "nc_fid = Dataset(sorted_fnames[0], 'r')\n",
    "bands = nc_fid['sensor_band_parameters']['wavelength'][:].data\n",
    "nc_fid.close()"
   ]
  },
  {
   "cell_type": "code",
   "execution_count": 35,
   "metadata": {},
   "outputs": [],
   "source": [
    "λ = bands[0:10]"
   ]
  },
  {
   "cell_type": "code",
   "execution_count": 36,
   "metadata": {},
   "outputs": [],
   "source": [
    "Rrs_names = []\n",
    "Lt_names = []\n",
    "Lr_names = []\n",
    "rhot_names = []\n",
    "TLg_names = []\n",
    "polcor_names = []\n",
    "Es_names = []\n",
    "brdf_names = []\n",
    "tLf_names = []\n",
    "t_sol_names = []\n",
    "t_sen_names = []\n",
    "La_names = []\n",
    "\n",
    "mw = np.array([412,443,488,531,547,555,667,678])\n",
    "\n",
    "for w in λ:\n",
    "    b = bands[np.where(bands<=w)[0][-1]]\n",
    "    Rrs_names.append('Rrs_%d' % b)\n",
    "    Lt_names.append('Lt_%d' % b)\n",
    "    Lr_names.append('Lr_%d' % b)\n",
    "    La_names.append('La_%d' % b)\n",
    "    rhot_names.append('rhot_%d' % b)\n",
    "    TLg_names.append('TLg_%d' % b)\n",
    "    polcor_names.append('polcor_%d' % b)\n",
    "    Es_names.append('Es_%d' % b)\n",
    "    tLf_names.append('tLf_%d' % b)\n",
    "    t_sol_names.append('t_sol_%d' % b)\n",
    "    t_sen_names.append('t_sen_%d' % b)\n",
    "    brdf_names.append('brdf_%d' % b)"
   ]
  },
  {
   "cell_type": "code",
   "execution_count": 37,
   "metadata": {},
   "outputs": [
    {
     "name": "stderr",
     "output_type": "stream",
     "text": [
      " 34%|███▍      | 180/523 [00:31<00:54,  6.33it/s]"
     ]
    },
    {
     "name": "stdout",
     "output_type": "stream",
     "text": [
      "Can not read this file NA\n"
     ]
    },
    {
     "name": "stderr",
     "output_type": "stream",
     "text": [
      " 36%|███▌      | 187/523 [00:32<00:43,  7.71it/s]"
     ]
    },
    {
     "name": "stdout",
     "output_type": "stream",
     "text": [
      "Can not read this file NA\n",
      "Can not read this file NA\n",
      "Can not read this file NA\n"
     ]
    },
    {
     "name": "stderr",
     "output_type": "stream",
     "text": [
      " 37%|███▋      | 193/523 [00:32<00:32, 10.16it/s]"
     ]
    },
    {
     "name": "stdout",
     "output_type": "stream",
     "text": [
      "Can not read this file NA\n",
      "Can not read this file NA\n"
     ]
    },
    {
     "name": "stderr",
     "output_type": "stream",
     "text": [
      " 38%|███▊      | 199/523 [00:33<00:31, 10.44it/s]"
     ]
    },
    {
     "name": "stdout",
     "output_type": "stream",
     "text": [
      "Can not read this file NA\n",
      "Can not read this file NA\n",
      "Can not read this file NA\n"
     ]
    },
    {
     "name": "stderr",
     "output_type": "stream",
     "text": [
      " 39%|███▉      | 206/523 [00:34<00:38,  8.13it/s]"
     ]
    },
    {
     "name": "stdout",
     "output_type": "stream",
     "text": [
      "Can not read this file NA\n"
     ]
    },
    {
     "name": "stderr",
     "output_type": "stream",
     "text": [
      " 41%|████▏     | 217/523 [00:35<00:43,  7.05it/s]"
     ]
    },
    {
     "name": "stdout",
     "output_type": "stream",
     "text": [
      "Can not read this file NA\n",
      "Can not read this file NA\n"
     ]
    },
    {
     "name": "stderr",
     "output_type": "stream",
     "text": [
      " 42%|████▏     | 221/523 [00:36<00:33,  8.92it/s]"
     ]
    },
    {
     "name": "stdout",
     "output_type": "stream",
     "text": [
      "Can not read this file NA\n"
     ]
    },
    {
     "name": "stderr",
     "output_type": "stream",
     "text": [
      " 88%|████████▊ | 461/523 [01:22<00:10,  6.01it/s]"
     ]
    },
    {
     "name": "stdout",
     "output_type": "stream",
     "text": [
      "Can not read this file NA\n"
     ]
    },
    {
     "name": "stderr",
     "output_type": "stream",
     "text": [
      "100%|██████████| 523/523 [01:33<00:00,  5.57it/s]\n",
      "/accounts/aibrahi2/anaconda3/lib/python3.7/site-packages/ipykernel_launcher.py:67: RuntimeWarning: invalid value encountered in less\n",
      "/accounts/aibrahi2/anaconda3/lib/python3.7/site-packages/ipykernel_launcher.py:67: RuntimeWarning: invalid value encountered in greater\n"
     ]
    }
   ],
   "source": [
    "# chlor_a, Lt, La, Lr, rhot, TLg, pcolor, Es, brdf, tLf, t_sol, t_sen_\n",
    "Rrs = np.empty((len(λ), 11*11, len(sorted_fnames))) + np.nan\n",
    "f = np.empty((11*11, len(sorted_fnames))) + np.nan\n",
    "chlor_a = np.empty((11*11, len(sorted_fnames))) + np.nan\n",
    "Lt = np.empty((len(λ), 11*11, len(sorted_fnames))) + np.nan\n",
    "Lr = np.empty((len(λ), 11*11, len(sorted_fnames))) + np.nan\n",
    "La = np.empty((len(λ), 11*11, len(sorted_fnames))) + np.nan\n",
    "rhot = np.empty((len(λ), 11*11, len(sorted_fnames))) + np.nan\n",
    "TLg = np.empty((len(λ), 11*11, len(sorted_fnames))) + np.nan\n",
    "polcor = np.empty((len(λ), 11*11, len(sorted_fnames))) + np.nan\n",
    "Es = np.empty((len(λ), 11*11, len(sorted_fnames))) + np.nan\n",
    "brdf = np.empty((len(λ), 11*11, len(sorted_fnames))) + np.nan\n",
    "tLf = np.empty((len(λ), 11*11, len(sorted_fnames))) + np.nan\n",
    "t_sol = np.empty((len(λ), 11*11, len(sorted_fnames))) + np.nan\n",
    "t_sen = np.empty((len(λ), 11*11, len(sorted_fnames))) + np.nan\n",
    "relaz = np.empty((11*11, len(sorted_fnames))) + np.nan\n",
    "scattang = np.empty((11*11, len(sorted_fnames))) + np.nan\n",
    "glint_coef = np.empty((11*11, len(sorted_fnames))) + np.nan\n",
    "\n",
    "Rrs_mask = np.empty((11*11, len(sorted_fnames))) + np.nan\n",
    "for i, filename in enumerate(tqdm(sorted_fnames)):\n",
    "    try:\n",
    "        nc_fid = Dataset(filename, 'r')\n",
    "        f_temp = nc_fid['geophysical_data']['l2_flags'][:].data.ravel()\n",
    "        chl_temp = nc_fid['geophysical_data']['chlor_a'][:].data.ravel()\n",
    "        relaz_temp = nc_fid['geophysical_data']['relaz'][:].data.ravel()\n",
    "        scattang_temp = nc_fid['geophysical_data']['scattang'][:].data.ravel()\n",
    "        glint_temp = nc_fid['geophysical_data']['glint_coef'][:].data.ravel()\n",
    "\n",
    "        if len(f_temp) <=121:\n",
    "            f[:,i] = np.pad(f_temp, (0,np.abs(121 - len(f_temp))))\n",
    "            chlor_a[:,i] = np.pad(chl_temp, (0,np.abs(121 - len(f_temp))))\n",
    "            relaz[:,i] = np.pad(relaz_temp, (0,np.abs(121 - len(f_temp))))\n",
    "            scattang[:,i] = np.pad(scattang_temp, (0,np.abs(121 - len(f_temp))))\n",
    "            glint_coef[:,i] = np.pad(glint_temp, (0,np.abs(121 - len(f_temp))))\n",
    "            for l in range(len(λ)):\n",
    "                Rrs_temp = nc_fid['geophysical_data'][Rrs_names[l]][:].data.ravel()\n",
    "                Lt_temp = nc_fid['geophysical_data'][Lt_names[l]][:].data.ravel()\n",
    "                Lr_temp = nc_fid['geophysical_data'][Lr_names[l]][:].data.ravel()\n",
    "                La_temp = nc_fid['geophysical_data'][La_names[l]][:].data.ravel()\n",
    "                rhot_temp = nc_fid['geophysical_data'][rhot_names[l]][:].data.ravel()\n",
    "                TLg_temp = nc_fid['geophysical_data'][TLg_names[l]][:].data.ravel()\n",
    "                polcor_temp = nc_fid['geophysical_data'][polcor_names[l]][:].data.ravel()\n",
    "                Es_temp = nc_fid['geophysical_data'][Es_names[l]][:].data.ravel()\n",
    "                tLf_temp = nc_fid['geophysical_data'][tLf_names[l]][:].data.ravel()\n",
    "                t_sol_temp = nc_fid['geophysical_data'][t_sol_names[l]][:].data.ravel()\n",
    "                t_sen_temp = nc_fid['geophysical_data'][t_sen_names[l]][:].data.ravel()\n",
    "                brdf_temp = nc_fid['geophysical_data'][brdf_names[l]][:].data.ravel()\n",
    "\n",
    "                Rrs[l,:,i] =  np.pad(Rrs_temp, (0,np.abs(121 - len(Rrs_temp))))\n",
    "                Lt[l,:,i] =  np.pad(Lt_temp, (0,np.abs(121 - len(Rrs_temp))))\n",
    "                Lr[l,:,i] =  np.pad(Lr_temp, (0,np.abs(121 - len(Rrs_temp))))\n",
    "                La[l,:,i] =  np.pad(La_temp, (0,np.abs(121 - len(Rrs_temp))))\n",
    "                rhot[l,:,i] =  np.pad(rhot_temp, (0,np.abs(121 - len(Rrs_temp))))\n",
    "                TLg[l,:,i] =  np.pad(TLg_temp, (0,np.abs(121 - len(Rrs_temp))))\n",
    "                polcor[l,:,i] =  np.pad(polcor_temp, (0,np.abs(121 - len(Rrs_temp))))\n",
    "                Es[l,:,i] =  np.pad(Es_temp, (0,np.abs(121 - len(Rrs_temp))))\n",
    "                tLf[l,:,i] =  np.pad(tLf_temp, (0,np.abs(121 - len(Rrs_temp))))\n",
    "                t_sol[l,:,i] =  np.pad(t_sol_temp, (0,np.abs(121 - len(Rrs_temp))))\n",
    "                t_sen[l,:,i] =  np.pad(t_sen_temp, (0,np.abs(121 - len(Rrs_temp))))\n",
    "                brdf[l,:,i] =  np.pad(brdf_temp, (0,np.abs(121 - len(Rrs_temp))))\n",
    "                \n",
    "    #             Rrs_mask[l,:,i] = (Rrs[l,:,i] > 0) & (Rrs[l,:,i] < 1)\n",
    "    except OSError and IndexError and  FileNotFoundError:\n",
    "        print('Can not read this file ' + filename)\n",
    "\n",
    "Rrs[(Rrs<0) | (Rrs > 1)] = np.nan"
   ]
  },
  {
   "cell_type": "code",
   "execution_count": 436,
   "metadata": {},
   "outputs": [
    {
     "data": {
      "text/plain": [
       "[<matplotlib.lines.Line2D at 0x7fdb93931eb8>]"
      ]
     },
     "execution_count": 436,
     "metadata": {},
     "output_type": "execute_result"
    },
    {
     "data": {
      "image/png": "[encoded data removed]",
      "text/plain": [
       "<Figure size 432x288 with 1 Axes>"
      ]
     },
     "metadata": {
      "needs_background": "light"
     },
     "output_type": "display_data"
    }
   ],
   "source": [
    "ii = 234\n",
    "plt.plot(λ[0:10], np.nanmedian(Rrs[0:10,:,ii], axis=1), '--or');\n",
    "plt.plot(mw, Rrs_aqua[ii,:],  '--og')\n",
    "plt.plot(mw, Rrs_mob[ii,:],  '--ob')"
   ]
  },
  {
   "cell_type": "code",
   "execution_count": 377,
   "metadata": {},
   "outputs": [
    {
     "data": {
      "image/png": "[encoded data removed]",
      "text/plain": [
       "<Figure size 432x288 with 1 Axes>"
      ]
     },
     "metadata": {
      "needs_background": "light"
     },
     "output_type": "display_data"
    }
   ],
   "source": [
    "iw = 0\n",
    "pd = 100*(Rrs_aqua- Rrs_mob)/Rrs_mob\n",
    "plt.hist(100*pd[:,iw], 50);"
   ]
  },
  {
   "cell_type": "code",
   "execution_count": 378,
   "metadata": {},
   "outputs": [
    {
     "data": {
      "text/plain": [
       "[<matplotlib.lines.Line2D at 0x7fdb930bd748>]"
      ]
     },
     "execution_count": 378,
     "metadata": {},
     "output_type": "execute_result"
    },
    {
     "data": {
      "image/png": "[encoded data removed]",
      "text/plain": [
       "<Figure size 432x288 with 1 Axes>"
      ]
     },
     "metadata": {
      "needs_background": "light"
     },
     "output_type": "display_data"
    }
   ],
   "source": [
    "plt.plot(mw, np.nanmedian(pd, axis=0), '--o')\n",
    "# plt.plot(mw, np.nanstd(pd, axis=0), '--o')"
   ]
  },
  {
   "cell_type": "code",
   "execution_count": 299,
   "metadata": {},
   "outputs": [],
   "source": [
    "np.save('Rrs_aqua', Rrs_aqua)"
   ]
  },
  {
   "cell_type": "code",
   "execution_count": 260,
   "metadata": {},
   "outputs": [],
   "source": [
    "Rrs_aqua = np.reshape(Rrs_aqua, (523,8))"
   ]
  },
  {
   "cell_type": "code",
   "execution_count": 304,
   "metadata": {},
   "outputs": [],
   "source": [
    "np.save('Rrs_mob', Rrs_mob)"
   ]
  },
  {
   "cell_type": "code",
   "execution_count": 252,
   "metadata": {},
   "outputs": [],
   "source": [
    "mw = np.array([412,443,488,531,547,555,667,678])"
   ]
  },
  {
   "cell_type": "code",
   "execution_count": 301,
   "metadata": {},
   "outputs": [],
   "source": [
    "Rrs_mob = np.reshape(Rrs_mob, (523,8))"
   ]
  },
  {
   "cell_type": "code",
   "execution_count": 371,
   "metadata": {},
   "outputs": [
    {
     "data": {
      "text/plain": [
       "(121, 523)"
      ]
     },
     "execution_count": 371,
     "metadata": {},
     "output_type": "execute_result"
    }
   ],
   "source": [
    "# chlor_a, Lt, La, Lr, rhot, TLg, pcolor, Es, brdf, tLf, t_sol, t_sen_\n",
    "chlor_a.shape"
   ]
  },
  {
   "cell_type": "code",
   "execution_count": 453,
   "metadata": {},
   "outputs": [],
   "source": [
    "np.save('Lt', Lt)\n",
    "np.save('chlor_a', chlor_a)\n",
    "np.save('La', La)\n",
    "np.save('Lr', Lr)\n",
    "np.save('rhot', rhot)\n",
    "np.save('TLg', TLg)\n",
    "np.save('polcor', polcor)\n",
    "np.save('Es', Es)\n",
    "np.save('brdf', brdf)\n",
    "np.save('tLf', tLf)\n",
    "np.save('t_sol', t_sol)\n",
    "np.save('t_sen', t_sen)\n",
    "np.save('relaz', relaz)\n",
    "np.save('glint_coef', glint_coef)\n",
    "np.save('scattang',scattang)"
   ]
  },
  {
   "cell_type": "code",
   "execution_count": 452,
   "metadata": {},
   "outputs": [
    {
     "name": "stderr",
     "output_type": "stream",
     "text": [
      "/accounts/aibrahi2/anaconda3/lib/python3.7/site-packages/numpy/lib/nanfunctions.py:1116: RuntimeWarning: All-NaN slice encountered\n",
      "  overwrite_input=overwrite_input)\n"
     ]
    },
    {
     "data": {
      "text/plain": [
       "[<matplotlib.lines.Line2D at 0x7fdb920965f8>]"
      ]
     },
     "execution_count": 452,
     "metadata": {},
     "output_type": "execute_result"
    },
    {
     "data": {
      "image/png": "[encoded data removed]",
      "text/plain": [
       "<Figure size 432x288 with 1 Axes>"
      ]
     },
     "metadata": {
      "needs_background": "light"
     },
     "output_type": "display_data"
    }
   ],
   "source": [
    "ii=0\n",
    "plt.plot(Rrs_mob[:,ii], np.nanmedian(Rrs[ii,:,:], axis=0),  'og')\n",
    "plt.plot(Rrs_mob[:,ii], Rrs_aqua[:,ii],  'o')\n",
    "plt.plot([0.004,0.008],[0.004,0.008])"
   ]
  },
  {
   "cell_type": "code",
   "execution_count": 406,
   "metadata": {},
   "outputs": [
    {
     "data": {
      "text/plain": [
       "(-40, 40)"
      ]
     },
     "execution_count": 406,
     "metadata": {},
     "output_type": "execute_result"
    },
    {
     "data": {
      "image/png": "[encoded data removed]",
      "text/plain": [
       "<Figure size 432x288 with 1 Axes>"
      ]
     },
     "metadata": {
      "needs_background": "light"
     },
     "output_type": "display_data"
    }
   ],
   "source": [
    "ppd = 100*(np.nanmedian(Rrs[ii,:,:], axis=0)- Rrs_aqua[:,ii])/Rrs_aqua[:,ii]\n",
    "plt.hist(ppd, 100);\n",
    "plt.xlim([-40,40])"
   ]
  },
  {
   "cell_type": "code",
   "execution_count": 405,
   "metadata": {},
   "outputs": [
    {
     "data": {
      "text/plain": [
       "23.22378671618328"
      ]
     },
     "execution_count": 405,
     "metadata": {},
     "output_type": "execute_result"
    }
   ],
   "source": [
    "ppd.mean()"
   ]
  },
  {
   "cell_type": "code",
   "execution_count": 407,
   "metadata": {},
   "outputs": [
    {
     "data": {
      "text/plain": [
       "array([412, 443, 469, 488, 531, 547, 555, 645, 667, 678], dtype=int32)"
      ]
     },
     "execution_count": 407,
     "metadata": {},
     "output_type": "execute_result"
    }
   ],
   "source": [
    "λ"
   ]
  },
  {
   "cell_type": "code",
   "execution_count": 9,
   "metadata": {},
   "outputs": [
    {
     "data": {
      "text/plain": [
       "array([1729.12    , 1876.22    , 2058.78    , 1949.33    , 1857.47    ,\n",
       "       1865.39    , 1838.6901  , 1578.1101  , 1522.55    , 1480.52    ,\n",
       "       1280.65    ,  971.74005 ,  958.24    ,  454.66998 ,  239.76999 ,\n",
       "         98.850006], dtype=float32)"
      ]
     },
     "execution_count": 9,
     "metadata": {},
     "output_type": "execute_result"
    }
   ],
   "source": [
    "xr.open_dataset(filename, group='sensor_band_parameters').F0.values"
   ]
  },
  {
   "cell_type": "code",
   "execution_count": 418,
   "metadata": {},
   "outputs": [
    {
     "data": {
      "text/plain": [
       "(10, 121, 523)"
      ]
     },
     "execution_count": 418,
     "metadata": {},
     "output_type": "execute_result"
    }
   ],
   "source": [
    "Rrs.shape"
   ]
  },
  {
   "cell_type": "code",
   "execution_count": 419,
   "metadata": {},
   "outputs": [],
   "source": [
    "x = np.nanmean(Rrs, axis=1)"
   ]
  },
  {
   "cell_type": "code",
   "execution_count": 420,
   "metadata": {},
   "outputs": [
    {
     "data": {
      "text/plain": [
       "(10, 523)"
      ]
     },
     "execution_count": 420,
     "metadata": {},
     "output_type": "execute_result"
    }
   ],
   "source": [
    "x.shape"
   ]
  },
  {
   "cell_type": "code",
   "execution_count": 423,
   "metadata": {},
   "outputs": [
    {
     "data": {
      "text/plain": [
       "array([[1.50407586e-04, 1.80414116e-04, 2.18843126e-04, ...,\n",
       "        6.95111040e-05, 1.14430604e-04, 1.14661878e-04],\n",
       "       [1.50407586e-04, 1.80414116e-04, 2.18843126e-04, ...,\n",
       "        6.95111040e-05, 1.14430604e-04, 1.14661878e-04],\n",
       "       [1.50407586e-04, 1.80414116e-04, 2.18843126e-04, ...,\n",
       "        6.95111040e-05, 1.14430604e-04, 1.14661878e-04],\n",
       "       ...,\n",
       "       [1.50407586e-04, 1.80414116e-04, 2.18843126e-04, ...,\n",
       "        6.95111040e-05, 1.14430604e-04, 1.14661878e-04],\n",
       "       [1.50407586e-04, 1.80414116e-04, 2.18843126e-04, ...,\n",
       "        6.95111040e-05, 1.14430604e-04, 1.14661878e-04],\n",
       "       [1.50407586e-04, 1.80414116e-04, 2.18843126e-04, ...,\n",
       "        6.95111040e-05, 1.14430604e-04, 1.14661878e-04]])"
      ]
     },
     "execution_count": 423,
     "metadata": {},
     "output_type": "execute_result"
    }
   ],
   "source": [
    "x"
   ]
  },
  {
   "cell_type": "code",
   "execution_count": 2,
   "metadata": {},
   "outputs": [
    {
     "ename": "NameError",
     "evalue": "name 'Rrs' is not defined",
     "output_type": "error",
     "traceback": [
      "\u001b[0;31m---------------------------------------------------------------------------\u001b[0m",
      "\u001b[0;31mNameError\u001b[0m                                 Traceback (most recent call last)",
      "\u001b[0;32m<ipython-input-2-1f14da28d2dc>\u001b[0m in \u001b[0;36m<module>\u001b[0;34m\u001b[0m\n\u001b[0;32m----> 1\u001b[0;31m \u001b[0mRrs\u001b[0m\u001b[0;34m.\u001b[0m\u001b[0mshape\u001b[0m\u001b[0;34m\u001b[0m\u001b[0;34m\u001b[0m\u001b[0m\n\u001b[0m",
      "\u001b[0;31mNameError\u001b[0m: name 'Rrs' is not defined"
     ]
    }
   ],
   "source": [
    "Rrs.shape"
   ]
  },
  {
   "cell_type": "code",
   "execution_count": 61,
   "metadata": {},
   "outputs": [],
   "source": [
    "λ = bands[0:16]"
   ]
  },
  {
   "cell_type": "code",
   "execution_count": 62,
   "metadata": {},
   "outputs": [],
   "source": [
    "rhot_names = []\n",
    "aot_names = []\n",
    "\n",
    "\n",
    "for w in λ:\n",
    "    rhot_names.append('rhot_%d' % w)\n",
    "    aot_names.append('aot_%d' % w)\n",
    "\n"
   ]
  },
  {
   "cell_type": "code",
   "execution_count": 63,
   "metadata": {},
   "outputs": [],
   "source": [
    "rhot = np.empty((len(λ), 11*11, len(sorted_fnames))) + np.nan\n",
    "aot = np.empty((len(λ), 11*11, len(sorted_fnames))) + np.nan\n"
   ]
  },
  {
   "cell_type": "code",
   "execution_count": 65,
   "metadata": {},
   "outputs": [
    {
     "name": "stderr",
     "output_type": "stream",
     "text": [
      " 35%|███▍      | 181/523 [00:19<00:32, 10.52it/s]"
     ]
    },
    {
     "name": "stdout",
     "output_type": "stream",
     "text": [
      "Can not read this file NA\n"
     ]
    },
    {
     "name": "stderr",
     "output_type": "stream",
     "text": [
      " 36%|███▌      | 187/523 [00:19<00:25, 13.37it/s]"
     ]
    },
    {
     "name": "stdout",
     "output_type": "stream",
     "text": [
      "Can not read this file NA\n",
      "Can not read this file NA\n",
      "Can not read this file NA\n"
     ]
    },
    {
     "name": "stderr",
     "output_type": "stream",
     "text": [
      " 37%|███▋      | 193/523 [00:20<00:20, 15.83it/s]"
     ]
    },
    {
     "name": "stdout",
     "output_type": "stream",
     "text": [
      "Can not read this file NA\n",
      "Can not read this file NA\n"
     ]
    },
    {
     "name": "stderr",
     "output_type": "stream",
     "text": [
      " 38%|███▊      | 199/523 [00:20<00:22, 14.70it/s]"
     ]
    },
    {
     "name": "stdout",
     "output_type": "stream",
     "text": [
      "Can not read this file NA\n",
      "Can not read this file NA\n",
      "Can not read this file NA\n"
     ]
    },
    {
     "name": "stderr",
     "output_type": "stream",
     "text": [
      " 39%|███▉      | 206/523 [00:21<00:25, 12.25it/s]"
     ]
    },
    {
     "name": "stdout",
     "output_type": "stream",
     "text": [
      "Can not read this file NA\n"
     ]
    },
    {
     "name": "stderr",
     "output_type": "stream",
     "text": [
      " 42%|████▏     | 219/523 [00:22<00:25, 11.96it/s]"
     ]
    },
    {
     "name": "stdout",
     "output_type": "stream",
     "text": [
      "Can not read this file NA\n",
      "Can not read this file NA\n",
      "Can not read this file NA\n"
     ]
    },
    {
     "name": "stderr",
     "output_type": "stream",
     "text": [
      " 88%|████████▊ | 461/523 [00:48<00:05, 11.43it/s]"
     ]
    },
    {
     "name": "stdout",
     "output_type": "stream",
     "text": [
      "Can not read this file NA\n"
     ]
    },
    {
     "name": "stderr",
     "output_type": "stream",
     "text": [
      "100%|██████████| 523/523 [00:54<00:00,  9.56it/s]\n"
     ]
    }
   ],
   "source": [
    "for i, filename in enumerate(tqdm(sorted_fnames)):\n",
    "    try:\n",
    "        nc_fid = Dataset(filename, 'r')\n",
    "        f_temp = nc_fid['geophysical_data']['l2_flags'][:].data.ravel()\n",
    "\n",
    "        if len(f_temp) <=121:\n",
    "            for l in range(len(λ)):\n",
    "#                 rhot_temp = nc_fid['geophysical_data'][rhot_names[l]][:].data.ravel()\n",
    "                aot_temp = nc_fid['geophysical_data'][aot_names[l]][:].data.ravel()\n",
    "\n",
    "#                 rhot[l,:,i] =  np.pad(rhot_temp, (0,np.abs(121 - len(f_temp))))\n",
    "                aot[l,:,i] =  np.pad(aot_temp, (0,np.abs(121 - len(f_temp))))\n",
    "                \n",
    "    #             Rrs_mask[l,:,i] = (Rrs[l,:,i] > 0) & (Rrs[l,:,i] < 1)\n",
    "    except OSError and IndexError and  FileNotFoundError:\n",
    "        print('Can not read this file ' + filename)\n"
   ]
  },
  {
   "cell_type": "code",
   "execution_count": 28,
   "metadata": {},
   "outputs": [
    {
     "data": {
      "text/plain": [
       "(16, 121, 523)"
      ]
     },
     "execution_count": 28,
     "metadata": {},
     "output_type": "execute_result"
    }
   ],
   "source": [
    "rhot.shape"
   ]
  },
  {
   "cell_type": "code",
   "execution_count": 29,
   "metadata": {},
   "outputs": [],
   "source": [
    "np.save('rhot_all', rhot)"
   ]
  },
  {
   "cell_type": "code",
   "execution_count": 41,
   "metadata": {},
   "outputs": [
    {
     "data": {
      "text/plain": [
       "[<matplotlib.lines.Line2D at 0x7f01e7b96128>]"
      ]
     },
     "execution_count": 41,
     "metadata": {},
     "output_type": "execute_result"
    },
    {
     "data": {
      "image/png": "[encoded data removed]",
      "text/plain": [
       "<Figure size 432x288 with 1 Axes>"
      ]
     },
     "metadata": {
      "needs_background": "light"
     },
     "output_type": "display_data"
    }
   ],
   "source": [
    "ii = 0\n",
    "plt.plot(λ[0:10], np.nanmedian(Rrs[0:10,:,ii], axis=1), '--or');\n",
    "plt.plot(mw, Rrs_aqua[ii,:],  '--og')\n",
    "plt.plot(mw, Rrs_mob[ii,:],  '--ob')"
   ]
  },
  {
   "cell_type": "code",
   "execution_count": 39,
   "metadata": {},
   "outputs": [],
   "source": [
    "Rrs_aqua = np.load('Rrs_aqua.npy')\n",
    "Rrs_mob = np.load('Rrs_mob.npy')"
   ]
  },
  {
   "cell_type": "code",
   "execution_count": 43,
   "metadata": {},
   "outputs": [],
   "source": [
    "zz = np.load('aot.npy')"
   ]
  },
  {
   "cell_type": "code",
   "execution_count": 44,
   "metadata": {},
   "outputs": [
    {
     "data": {
      "text/plain": [
       "(10, 121, 523)"
      ]
     },
     "execution_count": 44,
     "metadata": {},
     "output_type": "execute_result"
    }
   ],
   "source": [
    "zz.shape"
   ]
  },
  {
   "cell_type": "code",
   "execution_count": 47,
   "metadata": {},
   "outputs": [
    {
     "ename": "NameError",
     "evalue": "name 'wl' is not defined",
     "output_type": "error",
     "traceback": [
      "\u001b[0;31m---------------------------------------------------------------------------\u001b[0m",
      "\u001b[0;31mNameError\u001b[0m                                 Traceback (most recent call last)",
      "\u001b[0;32m<ipython-input-47-45d311752d77>\u001b[0m in \u001b[0;36m<module>\u001b[0;34m\u001b[0m\n\u001b[0;32m----> 1\u001b[0;31m \u001b[0mwl\u001b[0m\u001b[0;34m\u001b[0m\u001b[0;34m\u001b[0m\u001b[0m\n\u001b[0m",
      "\u001b[0;31mNameError\u001b[0m: name 'wl' is not defined"
     ]
    }
   ],
   "source": [
    "np.save('aot_all', aot)"
   ]
  },
  {
   "cell_type": "code",
   "execution_count": 66,
   "metadata": {},
   "outputs": [
    {
     "data": {
      "text/plain": [
       "(16, 121, 523)"
      ]
     },
     "execution_count": 66,
     "metadata": {},
     "output_type": "execute_result"
    }
   ],
   "source": [
    "aot.shape"
   ]
  },
  {
   "cell_type": "code",
   "execution_count": null,
   "metadata": {},
   "outputs": [],
   "source": []
  }
 ],
 "metadata": {
  "kernelspec": {
   "display_name": "Python 3",
   "language": "python",
   "name": "python3"
  },
  "language_info": {
   "codemirror_mode": {
    "name": "ipython",
    "version": 3
   },
   "file_extension": ".py",
   "mimetype": "text/x-python",
   "name": "python",
   "nbconvert_exporter": "python",
   "pygments_lexer": "ipython3",
   "version": "3.7.3"
  }
 },
 "nbformat": 4,
 "nbformat_minor": 4
}
