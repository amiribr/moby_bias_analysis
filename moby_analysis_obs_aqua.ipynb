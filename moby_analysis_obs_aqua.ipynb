{
 "cells": [
  {
   "cell_type": "code",
   "execution_count": 1,
   "metadata": {},
   "outputs": [
    {
     "name": "stderr",
     "output_type": "stream",
     "text": [
      "WARNING (theano.tensor.blas): Using NumPy C-API based implementation for BLAS functions.\n"
     ]
    }
   ],
   "source": [
    "import pandas as pd\n",
    "import os\n",
    "import subprocess\n",
    "import zipfile\n",
    "import tarfile\n",
    "import numpy as np\n",
    "import matplotlib.pyplot as plt\n",
    "import pylab \n",
    "import scipy.stats as st\n",
    "import pymc3  as pm\n",
    "import seaborn as sns\n",
    "import arviz as az\n",
    "from sklearn.preprocessing import scale\n",
    "from matplotlib import rcParams\n",
    "from scipy import interpolate\n",
    "import matplotlib.cm as cm\n"
   ]
  },
  {
   "cell_type": "code",
   "execution_count": 2,
   "metadata": {},
   "outputs": [],
   "source": [
    "wave = np.array([412,443,488,531,547,555,667,678])\n",
    "λ = np.array([412, 443, 469, 488, 531, 547, 555, 645, 667, 678], dtype=np.int32)\n"
   ]
  },
  {
   "cell_type": "code",
   "execution_count": 239,
   "metadata": {},
   "outputs": [],
   "source": [
    "ndata = len(wave)\n",
    "Lt_names = ['Lt_%d' % wv for wv in wave]\n",
    "Lr_names = ['Lr_%d' % wv for wv in wave]\n",
    "La_names = ['La_%d' % wv for wv in wave]\n",
    "TLg_names = ['TLg_%d' % wv for wv in wave]\n",
    "tLf_names = ['tLf_%d' % wv for wv in wave]\n",
    "polcor_names = ['polcor_%d' % wv for wv in wave]\n",
    "brdf_names = ['brdf_%d' % wv for wv in wave]\n",
    "Rrs_mob_names = ['Rrs_mob_%d' % wv for wv in wave]\n",
    "Rrs_aqua_names = ['Rrs_aqua_%d' % wv for wv in wave]\n",
    "\n",
    "chl_names = ['chlor_a_%d' % wv for wv in wave]\n",
    "relaz_names = ['relaz_%d' % wv for wv in wave]\n",
    "scat_names = ['scattang_%d' % wv for wv in wave]\n",
    "glint_names = ['glint_coef_%d' % wv for wv in wave]\n",
    "\n",
    "Lw_names = ['Lw_%d' % wv for wv in wave]\n",
    "tg_sol_names = ['tg_sol_%d' % wv for wv in wave]\n",
    "tg_sen_names = ['tg_sen_%d' % wv for wv in wave]\n",
    "aot_names = ['aot_%d' % wv for wv in wave]\n",
    "\n",
    "tsol_names = ['t_sol_%d' % wv for wv in wave]\n",
    "tsen_names = ['t_sen_%d' % wv for wv in wave]\n",
    "water_vapor_names = ['water_vapor_%d' % wv for wv in wave]\n",
    "solz_names = ['solz_%d' % wv for wv in wave]\n",
    "senz_names = ['senz_%d' % wv for wv in wave]\n",
    "angstrom_names = ['angstrom_%d' % wv for wv in wave]\n",
    "epsilon_names = ['epsilon_%d' % wv for wv in wave]\n",
    "windspeed_names = ['windspeed_%d' % wv for wv in wave]\n",
    "humidity_names = ['humidity_%d' % wv for wv in wave]\n",
    "pressure_names = ['pressure_%d' % wv for wv in wave]\n",
    "ozone_names = ['ozone_%d' % wv for wv in wave]\n",
    "rhot_names = ['rhot_%d' % wv for wv in wave]"
   ]
  },
  {
   "cell_type": "code",
   "execution_count": 341,
   "metadata": {},
   "outputs": [],
   "source": [
    "df = np.load('moby_df', allow_pickle=True)"
   ]
  },
  {
   "cell_type": "code",
   "execution_count": 350,
   "metadata": {},
   "outputs": [
    {
     "name": "stderr",
     "output_type": "stream",
     "text": [
      "/accounts/aibrahi2/anaconda3/lib/python3.7/site-packages/pandas/core/frame.py:2963: SettingWithCopyWarning: \n",
      "A value is trying to be set on a copy of a slice from a DataFrame.\n",
      "Try using .loc[row_indexer,col_indexer] = value instead\n",
      "\n",
      "See the caveats in the documentation: https://pandas.pydata.org/pandas-docs/stable/user_guide/indexing.html#returning-a-view-versus-a-copy\n",
      "  self[k1] = value[k2]\n"
     ]
    }
   ],
   "source": [
    "ndf = df.dropna()\n",
    "μ0 = np.cos(np.deg2rad(ndf[solz_names])).values \n",
    "μ = np.cos(np.deg2rad(ndf[senz_names])).values \n",
    "\n",
    "# ndf[Lt_names] = np.atleast_2d(fsol.values).T*ndf[Lt_names]\n",
    "# ndf[Lr_names] = np.atleast_2d(fsol.values).T*ndf[Lr_names]\n",
    "# ndf[La_names] = np.atleast_2d(fsol.values).T*ndf[La_names]\n",
    "# ndf[TLg_names] = np.atleast_2d(fsol.values).T*ndf[TLg_names]\n",
    "# ndf[tLf_names] = np.atleast_2d(fsol.values).T*ndf[tLf_names]\n",
    "\n",
    "ndf[Lt_names] = ndf[Lt_names]/μ0\n",
    "ndf[Lr_names] = ndf[Lr_names]/μ0\n",
    "ndf[La_names] = ndf[La_names]/μ0\n",
    "ndf[TLg_names] = ndf[TLg_names]/μ0\n",
    "ndf[tLf_names] = ndf[tLf_names]/μ0\n",
    "\n",
    "airmass = 1/μ0 + 1/μ\n",
    "ndf[water_vapor_names] = airmass*ndf[water_vapor_names]\n",
    "ndf[ozone_names] = airmass*ndf[ozone_names]\n",
    "\n",
    "dfn = (ndf - ndf.mean())/ndf.std()\n"
   ]
  },
  {
   "cell_type": "code",
   "execution_count": 358,
   "metadata": {},
   "outputs": [
    {
     "name": "stderr",
     "output_type": "stream",
     "text": [
      "Auto-assigning NUTS sampler...\n",
      "Initializing NUTS using jitter+adapt_diag...\n",
      "Multiprocess sampling (4 chains in 4 jobs)\n",
      "NUTS: [σ, ν, β4, β3, β2, β1, β0, α, hyp_β_sd, hyp_α_sd]\n",
      "Sampling 4 chains, 34 divergences: 100%|██████████| 20000/20000 [00:37<00:00, 534.09draws/s]\n",
      "There were 4 divergences after tuning. Increase `target_accept` or reparameterize.\n",
      "There were 12 divergences after tuning. Increase `target_accept` or reparameterize.\n",
      "There were 12 divergences after tuning. Increase `target_accept` or reparameterize.\n",
      "There were 6 divergences after tuning. Increase `target_accept` or reparameterize.\n",
      "The number of effective samples is smaller than 10% for some parameters.\n"
     ]
    }
   ],
   "source": [
    "indx = np.arange(0,len(wave))\n",
    "\n",
    "with pm.Model() as pooled_model_ST_MLR:\n",
    "    hyp_α_sd = pm.HalfCauchy('hyp_α_sd', 1)\n",
    "    hyp_β_sd = pm.HalfCauchy('hyp_β_sd', 1)\n",
    "    \n",
    "    # Independent parameters for each county\n",
    "    α = pm.Normal('α', 0, sd=hyp_α_sd, shape=ndata)\n",
    "    β0 = pm.Normal('β0', 0, sd=hyp_β_sd, shape=ndata)\n",
    "    β1 = pm.Normal('β1', 0, sd=hyp_β_sd, shape=ndata)\n",
    "    β2 = pm.Normal('β2', 0, sd=hyp_β_sd, shape=ndata)\n",
    "    β3 = pm.Normal('β3', 0, sd=hyp_β_sd, shape=ndata)\n",
    "    β4 = pm.Normal('β4', 0, sd=hyp_β_sd, shape=ndata)\n",
    "#     β5 = pm.Normal('β5', 0, sd=hyp_β_sd, shape=ndata)\n",
    "    \n",
    "    # Model DOF\n",
    "    ν = pm.Exponential('ν', 1/30)\n",
    "\n",
    "    # Model error\n",
    "    σ = pm.HalfCauchy('σ', 1)\n",
    "    \n",
    "#     Rrs_est = α[indx] + β0[indx]*dfn[Rrs_mob_names] + β1[indx]*dfn[brdf_names]  +\\\n",
    "#                β2[indx]*dfn[windspeed_names] + β3[indx]*dfn[glint_names]\n",
    "    \n",
    "#     Rrs_est = α[indx] + β0[indx]*dfn[Rrs_mob_names] + β1[indx]*dfn[solz_names]  +\\\n",
    "#                β2[indx]*dfn[senz_names] + β3[indx]*dfn[relaz_names]\n",
    "    \n",
    "#     Rrs_est = α[indx] + β0[indx]*dfn[Rrs_mob_names] + β1[indx]*dfn[windspeed_names]  +\\\n",
    "#                β2[indx]*dfn[water_vapor_names] + β3[indx]*dfn[humidity_names] +\\\n",
    "#                β4[indx]*dfn[pressure_names] + β5[indx]*dfn[ozone_names]\n",
    "\n",
    "#     Rrs_est = α[indx] + β0[indx]*dfn[Rrs_mob_names] + β1[indx]*dfn[angstrom_names]  +\\\n",
    "#                β2[indx]*dfn[epsilon_names] + β3[indx]*dfn[aot_names]+ β4[indx]*dfn[polcor_names]\n",
    "\n",
    "    Rrs_est = α[indx] + β0[indx]*dfn[Rrs_mob_names] + β1[indx]*dfn[Lr_names]  +\\\n",
    "               β2[indx]*dfn[La_names] + β3[indx]*dfn[tLf_names]+ β4[indx]*dfn[TLg_names]\n",
    "\n",
    "#     Rrs_est = α[indx] + β0[indx]*dfn[Rrs_mob_names] + β1[indx]*dfn[tsol_names]  +\\\n",
    "#                β2[indx]*dfn[tsen_names] + β3[indx]*dfn[tg_sol_names]+ β4[indx]*dfn[tg_sen_names]\n",
    "\n",
    "\n",
    "    # Data likelihood\n",
    "    likelihood = pm.StudentT('Rrs_est', mu=Rrs_est, sd=σ, nu=ν, observed=dfn[Rrs_aqua_names])\n",
    "    \n",
    "with pooled_model_ST_MLR:\n",
    "    trace_hc_mlr = pm.sample(2000,tune=3000)"
   ]
  },
  {
   "cell_type": "code",
   "execution_count": 361,
   "metadata": {},
   "outputs": [
    {
     "data": {
      "image/png": "[encoded data removed]",
      "text/plain": [
       "<Figure size 432x864 with 1 Axes>"
      ]
     },
     "metadata": {
      "needs_background": "light"
     },
     "output_type": "display_data"
    }
   ],
   "source": [
    "# mnames =  [ 'Rrs_aqua','brdf', 'windspeed', 'glint_coeff']\n",
    "# mnames =  ['Rrs_aqua','solz', 'senz', 'relaz']\n",
    "# mnames =  ['Rrs_aqua','windspeed', 'airmass_adj_water_vapor', 'humidity', 'pressure', 'airmass_adj_ozone']\n",
    "# mnames =  ['Rrs_aqua','angstrom', 'epsilon', 'aot', 'polcor']\n",
    "# mnames =  ['Rrs_aqua','Lr', 'La', 'tLf', 'TLg']\n",
    "mnames =  ['Rrs_aqua','rhor', 'rhoa', 'trhof', 'Trhog']\n",
    "\n",
    "# mnames =  ['Rrs_aqua','tsol', 'tsen', 'Tgsol', 'Tgsen']\n",
    "\n",
    "\n",
    "ax = az.plot_forest([np.flipud(trace_hc_mlr['β0'].T), np.flipud(trace_hc_mlr['β1'].T),\n",
    "               np.flipud(trace_hc_mlr['β2'].T), np.flipud(trace_hc_mlr['β3'].T)\n",
    "                ,np.flipud(trace_hc_mlr['β4'].T), \n",
    "#                      np.flipud(trace_hc_mlr['β5'].T)    \n",
    "                    ], \n",
    "               model_names=mnames)\n",
    "\n",
    "# az.plot_forest([np.flipud(trace_hc_mlr['β0'].T), ], model_names=[ 'glint',])\n",
    "ax[0].axvline(0, color='k', ls='--');\n",
    "ax[0].grid()\n",
    "# plt.savefig('forest_plot_at_surface_aqua.pdf', dpi=300, bbox_inches='tight')\n",
    "# plt.savefig('forest_plot_geom_aqua.pdf', dpi=300, bbox_inches='tight')\n",
    "# plt.savefig('forest_plot_ancillary_airmass_data_aqua.pdf', dpi=300, bbox_inches='tight')\n",
    "# plt.savefig('forest_plot_aerosol_aqua.pdf', dpi=300, bbox_inches='tight')\n",
    "# plt.savefig('forest_plot_radiances_aqua.pdf', dpi=300, bbox_inches='tight')\n",
    "plt.savefig('forest_plot_reflectances_aqua.pdf', dpi=300, bbox_inches='tight')\n",
    "# plt.savefig('forest_plot_transmittances.pdf', dpi=300, bbox_inches='tight')"
   ]
  },
  {
   "cell_type": "code",
   "execution_count": 59,
   "metadata": {},
   "outputs": [
    {
     "data": {
      "text/plain": [
       "<seaborn.axisgrid.FacetGrid at 0x7f1836e85da0>"
      ]
     },
     "execution_count": 59,
     "metadata": {},
     "output_type": "execute_result"
    },
    {
     "data": {
      "image/png": "[encoded data removed]",
      "text/plain": [
       "<Figure size 360x360 with 1 Axes>"
      ]
     },
     "metadata": {
      "needs_background": "light"
     },
     "output_type": "display_data"
    }
   ],
   "source": [
    "sns.lmplot('Rrs_aqua_488', 'Lr_488', dfn, ci=100)\n",
    "# plt.xlim([0,0.01])"
   ]
  },
  {
   "cell_type": "code",
   "execution_count": 19,
   "metadata": {},
   "outputs": [
    {
     "data": {
      "text/plain": [
       "<seaborn.axisgrid.FacetGrid at 0x7f18447e4278>"
      ]
     },
     "execution_count": 19,
     "metadata": {},
     "output_type": "execute_result"
    },
    {
     "data": {
      "image/png": "[encoded data removed]",
      "text/plain": [
       "<Figure size 360x360 with 1 Axes>"
      ]
     },
     "metadata": {
      "needs_background": "light"
     },
     "output_type": "display_data"
    }
   ],
   "source": [
    "sns.lmplot('Rrs_aqua_443', 'Rrs_mob_443', dfn, ci=95)"
   ]
  },
  {
   "cell_type": "code",
   "execution_count": 94,
   "metadata": {},
   "outputs": [],
   "source": []
  },
  {
   "cell_type": "code",
   "execution_count": 324,
   "metadata": {},
   "outputs": [
    {
     "data": {
      "text/plain": [
       "<matplotlib.legend.Legend at 0x7fe68f3f2e10>"
      ]
     },
     "execution_count": 324,
     "metadata": {},
     "output_type": "execute_result"
    },
    {
     "data": {
      "image/png": "[encoded data removed]",
      "text/plain": [
       "<Figure size 432x288 with 2 Axes>"
      ]
     },
     "metadata": {
      "needs_background": "light"
     },
     "output_type": "display_data"
    }
   ],
   "source": [
    "l= 443\n",
    "y = ndf['Rrs_diff_' + np.str(l)]\n",
    "x = ndf['Lr_' + np.str(l)].values\n",
    "z = ndf['solz_' + np.str(l)]\n",
    "\n",
    "cm = plt.cm.get_cmap('tab20c')\n",
    "sc = plt.scatter(x, y, c=z, vmin=z.min(), vmax=z.max(), s=12, cmap=cm)\n",
    "scb = plt.colorbar(sc, label='solz')\n",
    "\n",
    "plt.ylabel('Residual (Rrs_moby - Rrs_aqua)', fontsize=12)\n",
    "plt.xlabel('Lr_' + np.str(l), fontsize=12)\n",
    "plt.plot([35,95], [0,0], '--k', label= '0:0 line')\n",
    "plt.plot(xx,yy, '--r', label= 'best fit')\n",
    "# plt.xlim([35,95])\n",
    "plt.legend()\n",
    "# plt.savefig('Residual_Lr_443.pdf', dpi=300,  bbox_inches='tight')\n"
   ]
  },
  {
   "cell_type": "code",
   "execution_count": 203,
   "metadata": {},
   "outputs": [],
   "source": [
    "from scipy import stats"
   ]
  },
  {
   "cell_type": "code",
   "execution_count": 210,
   "metadata": {},
   "outputs": [],
   "source": [
    "slope, intercept, r_value, p_value, std_err = stats.linregress(x,y)"
   ]
  },
  {
   "cell_type": "code",
   "execution_count": 231,
   "metadata": {},
   "outputs": [],
   "source": [
    "xx = np.linspace(34,95, 100)\n",
    "yy = intercept + slope*xx"
   ]
  },
  {
   "cell_type": "code",
   "execution_count": 310,
   "metadata": {},
   "outputs": [],
   "source": [
    "F0 = np.array([1729.12    , 1876.22    , 2058.78    , 1949.33    , 1857.47    ,\n",
    "       1865.39    , 1838.6901  , 1578.1101  , 1522.55    , 1480.52    ,\n",
    "       1280.65    ,  971.74005 ,  958.24    ,  454.66998 ,  239.76999 ,\n",
    "         98.850006], dtype=np.float32)\n",
    "λ = np.array([412, 443, 469, 488, 531, 547, 555, 645, 667, 678], dtype=np.int32)\n",
    "F0i = interpolate.interp1d(λ, F0[:10])(wave).T\n"
   ]
  },
  {
   "cell_type": "code",
   "execution_count": 319,
   "metadata": {},
   "outputs": [
    {
     "data": {
      "image/png": "[encoded data removed]",
      "text/plain": [
       "<Figure size 432x288 with 1 Axes>"
      ]
     },
     "metadata": {
      "needs_background": "light"
     },
     "output_type": "display_data"
    }
   ],
   "source": [
    "rhot_0 = (np.pi*(np.atleast_2d(ndf['Lt_412'].values)).T/\\\n",
    "        (np.atleast_2d(F0i).T[0]* np.atleast_2d(np.cos(np.deg2rad(ndf['solz_412']))).T))[:,0]\n",
    "\n",
    "plt.plot(ndf['rhot_412']/ rhot_0, '.');"
   ]
  },
  {
   "cell_type": "code",
   "execution_count": 297,
   "metadata": {},
   "outputs": [],
   "source": [
    "fsol  = ndf['rhot_412']/ rhot_0"
   ]
  },
  {
   "cell_type": "code",
   "execution_count": 307,
   "metadata": {},
   "outputs": [
    {
     "data": {
      "text/html": [
       "<div>\n",
       "<style scoped>\n",
       "    .dataframe tbody tr th:only-of-type {\n",
       "        vertical-align: middle;\n",
       "    }\n",
       "\n",
       "    .dataframe tbody tr th {\n",
       "        vertical-align: top;\n",
       "    }\n",
       "\n",
       "    .dataframe thead th {\n",
       "        text-align: right;\n",
       "    }\n",
       "</style>\n",
       "<table border=\"1\" class=\"dataframe\">\n",
       "  <thead>\n",
       "    <tr style=\"text-align: right;\">\n",
       "      <th></th>\n",
       "      <th>Lt_412</th>\n",
       "      <th>Lt_443</th>\n",
       "      <th>Lt_488</th>\n",
       "      <th>Lt_531</th>\n",
       "      <th>Lt_547</th>\n",
       "      <th>Lt_555</th>\n",
       "      <th>Lt_667</th>\n",
       "      <th>Lt_678</th>\n",
       "    </tr>\n",
       "  </thead>\n",
       "  <tbody>\n",
       "    <tr>\n",
       "      <th>0</th>\n",
       "      <td>0.723430</td>\n",
       "      <td>0.577953</td>\n",
       "      <td>0.419920</td>\n",
       "      <td>0.221917</td>\n",
       "      <td>0.150811</td>\n",
       "      <td>0.143654</td>\n",
       "      <td>-0.191111</td>\n",
       "      <td>-0.215764</td>\n",
       "    </tr>\n",
       "    <tr>\n",
       "      <th>1</th>\n",
       "      <td>0.491120</td>\n",
       "      <td>0.443309</td>\n",
       "      <td>0.489691</td>\n",
       "      <td>0.570020</td>\n",
       "      <td>0.626815</td>\n",
       "      <td>0.642634</td>\n",
       "      <td>1.037558</td>\n",
       "      <td>1.067205</td>\n",
       "    </tr>\n",
       "    <tr>\n",
       "      <th>2</th>\n",
       "      <td>0.495457</td>\n",
       "      <td>0.435803</td>\n",
       "      <td>0.474950</td>\n",
       "      <td>0.531002</td>\n",
       "      <td>0.575229</td>\n",
       "      <td>0.626212</td>\n",
       "      <td>0.896307</td>\n",
       "      <td>0.918379</td>\n",
       "    </tr>\n",
       "    <tr>\n",
       "      <th>3</th>\n",
       "      <td>1.503292</td>\n",
       "      <td>1.415373</td>\n",
       "      <td>1.339847</td>\n",
       "      <td>1.235854</td>\n",
       "      <td>1.172196</td>\n",
       "      <td>1.150748</td>\n",
       "      <td>0.605399</td>\n",
       "      <td>0.553577</td>\n",
       "    </tr>\n",
       "    <tr>\n",
       "      <th>4</th>\n",
       "      <td>0.047035</td>\n",
       "      <td>0.093357</td>\n",
       "      <td>0.380703</td>\n",
       "      <td>0.750079</td>\n",
       "      <td>0.908937</td>\n",
       "      <td>0.971977</td>\n",
       "      <td>2.209869</td>\n",
       "      <td>2.312905</td>\n",
       "    </tr>\n",
       "    <tr>\n",
       "      <th>...</th>\n",
       "      <td>...</td>\n",
       "      <td>...</td>\n",
       "      <td>...</td>\n",
       "      <td>...</td>\n",
       "      <td>...</td>\n",
       "      <td>...</td>\n",
       "      <td>...</td>\n",
       "      <td>...</td>\n",
       "    </tr>\n",
       "    <tr>\n",
       "      <th>518</th>\n",
       "      <td>-0.260742</td>\n",
       "      <td>-0.230663</td>\n",
       "      <td>-0.200856</td>\n",
       "      <td>-0.163234</td>\n",
       "      <td>-0.121705</td>\n",
       "      <td>-0.133770</td>\n",
       "      <td>0.232450</td>\n",
       "      <td>0.265625</td>\n",
       "    </tr>\n",
       "    <tr>\n",
       "      <th>519</th>\n",
       "      <td>0.423725</td>\n",
       "      <td>0.334792</td>\n",
       "      <td>0.145547</td>\n",
       "      <td>-0.086737</td>\n",
       "      <td>-0.163734</td>\n",
       "      <td>-0.199357</td>\n",
       "      <td>-0.709452</td>\n",
       "      <td>-0.750594</td>\n",
       "    </tr>\n",
       "    <tr>\n",
       "      <th>520</th>\n",
       "      <td>-0.233663</td>\n",
       "      <td>-0.128825</td>\n",
       "      <td>0.074285</td>\n",
       "      <td>0.339627</td>\n",
       "      <td>0.476718</td>\n",
       "      <td>0.505076</td>\n",
       "      <td>1.510675</td>\n",
       "      <td>1.598797</td>\n",
       "    </tr>\n",
       "    <tr>\n",
       "      <th>521</th>\n",
       "      <td>0.979314</td>\n",
       "      <td>0.900951</td>\n",
       "      <td>0.742267</td>\n",
       "      <td>0.527178</td>\n",
       "      <td>0.442736</td>\n",
       "      <td>0.407505</td>\n",
       "      <td>-0.180486</td>\n",
       "      <td>-0.236723</td>\n",
       "    </tr>\n",
       "    <tr>\n",
       "      <th>522</th>\n",
       "      <td>0.136916</td>\n",
       "      <td>0.057919</td>\n",
       "      <td>-0.086902</td>\n",
       "      <td>-0.272690</td>\n",
       "      <td>-0.327892</td>\n",
       "      <td>-0.357752</td>\n",
       "      <td>-0.716334</td>\n",
       "      <td>-0.745677</td>\n",
       "    </tr>\n",
       "  </tbody>\n",
       "</table>\n",
       "<p>500 rows × 8 columns</p>\n",
       "</div>"
      ],
      "text/plain": [
       "       Lt_412    Lt_443    Lt_488    Lt_531    Lt_547    Lt_555    Lt_667  \\\n",
       "0    0.723430  0.577953  0.419920  0.221917  0.150811  0.143654 -0.191111   \n",
       "1    0.491120  0.443309  0.489691  0.570020  0.626815  0.642634  1.037558   \n",
       "2    0.495457  0.435803  0.474950  0.531002  0.575229  0.626212  0.896307   \n",
       "3    1.503292  1.415373  1.339847  1.235854  1.172196  1.150748  0.605399   \n",
       "4    0.047035  0.093357  0.380703  0.750079  0.908937  0.971977  2.209869   \n",
       "..        ...       ...       ...       ...       ...       ...       ...   \n",
       "518 -0.260742 -0.230663 -0.200856 -0.163234 -0.121705 -0.133770  0.232450   \n",
       "519  0.423725  0.334792  0.145547 -0.086737 -0.163734 -0.199357 -0.709452   \n",
       "520 -0.233663 -0.128825  0.074285  0.339627  0.476718  0.505076  1.510675   \n",
       "521  0.979314  0.900951  0.742267  0.527178  0.442736  0.407505 -0.180486   \n",
       "522  0.136916  0.057919 -0.086902 -0.272690 -0.327892 -0.357752 -0.716334   \n",
       "\n",
       "       Lt_678  \n",
       "0   -0.215764  \n",
       "1    1.067205  \n",
       "2    0.918379  \n",
       "3    0.553577  \n",
       "4    2.312905  \n",
       "..        ...  \n",
       "518  0.265625  \n",
       "519 -0.750594  \n",
       "520  1.598797  \n",
       "521 -0.236723  \n",
       "522 -0.745677  \n",
       "\n",
       "[500 rows x 8 columns]"
      ]
     },
     "execution_count": 307,
     "metadata": {},
     "output_type": "execute_result"
    }
   ],
   "source": [
    "np.atleast_2d(fsol.values).T*dfn[Lt_names]"
   ]
  },
  {
   "cell_type": "code",
   "execution_count": 306,
   "metadata": {},
   "outputs": [
    {
     "data": {
      "text/plain": [
       "(500,)"
      ]
     },
     "execution_count": 306,
     "metadata": {},
     "output_type": "execute_result"
    }
   ],
   "source": [
    "fsol.values.shape"
   ]
  },
  {
   "cell_type": "code",
   "execution_count": 320,
   "metadata": {},
   "outputs": [
    {
     "data": {
      "text/plain": [
       "0      1.033427\n",
       "1      1.032020\n",
       "2      1.022248\n",
       "3      1.012275\n",
       "4      1.011573\n",
       "         ...   \n",
       "518    0.992354\n",
       "519    0.992836\n",
       "520    0.996399\n",
       "521    0.997378\n",
       "522    0.997946\n",
       "Name: rhot_412, Length: 500, dtype: float64"
      ]
     },
     "execution_count": 320,
     "metadata": {},
     "output_type": "execute_result"
    }
   ],
   "source": [
    "fsol"
   ]
  },
  {
   "cell_type": "code",
   "execution_count": 333,
   "metadata": {},
   "outputs": [
    {
     "data": {
      "text/html": [
       "<div>\n",
       "<style scoped>\n",
       "    .dataframe tbody tr th:only-of-type {\n",
       "        vertical-align: middle;\n",
       "    }\n",
       "\n",
       "    .dataframe tbody tr th {\n",
       "        vertical-align: top;\n",
       "    }\n",
       "\n",
       "    .dataframe thead th {\n",
       "        text-align: right;\n",
       "    }\n",
       "</style>\n",
       "<table border=\"1\" class=\"dataframe\">\n",
       "  <thead>\n",
       "    <tr style=\"text-align: right;\">\n",
       "      <th></th>\n",
       "      <th>senz_412</th>\n",
       "      <th>senz_443</th>\n",
       "      <th>senz_488</th>\n",
       "      <th>senz_531</th>\n",
       "      <th>senz_547</th>\n",
       "      <th>senz_555</th>\n",
       "      <th>senz_667</th>\n",
       "      <th>senz_678</th>\n",
       "    </tr>\n",
       "  </thead>\n",
       "  <tbody>\n",
       "    <tr>\n",
       "      <th>0</th>\n",
       "      <td>1.180862</td>\n",
       "      <td>1.180862</td>\n",
       "      <td>1.180862</td>\n",
       "      <td>1.180862</td>\n",
       "      <td>1.180862</td>\n",
       "      <td>1.180862</td>\n",
       "      <td>1.180862</td>\n",
       "      <td>1.180862</td>\n",
       "    </tr>\n",
       "    <tr>\n",
       "      <th>1</th>\n",
       "      <td>1.068795</td>\n",
       "      <td>1.068795</td>\n",
       "      <td>1.068795</td>\n",
       "      <td>1.068795</td>\n",
       "      <td>1.068795</td>\n",
       "      <td>1.068795</td>\n",
       "      <td>1.068795</td>\n",
       "      <td>1.068795</td>\n",
       "    </tr>\n",
       "    <tr>\n",
       "      <th>2</th>\n",
       "      <td>1.061378</td>\n",
       "      <td>1.061378</td>\n",
       "      <td>1.061378</td>\n",
       "      <td>1.061378</td>\n",
       "      <td>1.061378</td>\n",
       "      <td>1.061378</td>\n",
       "      <td>1.061378</td>\n",
       "      <td>1.061378</td>\n",
       "    </tr>\n",
       "    <tr>\n",
       "      <th>3</th>\n",
       "      <td>1.540993</td>\n",
       "      <td>1.540993</td>\n",
       "      <td>1.540993</td>\n",
       "      <td>1.540993</td>\n",
       "      <td>1.540993</td>\n",
       "      <td>1.540993</td>\n",
       "      <td>1.540993</td>\n",
       "      <td>1.540993</td>\n",
       "    </tr>\n",
       "    <tr>\n",
       "      <th>4</th>\n",
       "      <td>1.562231</td>\n",
       "      <td>1.562231</td>\n",
       "      <td>1.562231</td>\n",
       "      <td>1.562231</td>\n",
       "      <td>1.562231</td>\n",
       "      <td>1.562231</td>\n",
       "      <td>1.562231</td>\n",
       "      <td>1.562231</td>\n",
       "    </tr>\n",
       "    <tr>\n",
       "      <th>...</th>\n",
       "      <td>...</td>\n",
       "      <td>...</td>\n",
       "      <td>...</td>\n",
       "      <td>...</td>\n",
       "      <td>...</td>\n",
       "      <td>...</td>\n",
       "      <td>...</td>\n",
       "      <td>...</td>\n",
       "    </tr>\n",
       "    <tr>\n",
       "      <th>518</th>\n",
       "      <td>1.546715</td>\n",
       "      <td>1.546715</td>\n",
       "      <td>1.546715</td>\n",
       "      <td>1.546715</td>\n",
       "      <td>1.546715</td>\n",
       "      <td>1.546715</td>\n",
       "      <td>1.546715</td>\n",
       "      <td>1.546715</td>\n",
       "    </tr>\n",
       "    <tr>\n",
       "      <th>519</th>\n",
       "      <td>1.185176</td>\n",
       "      <td>1.185176</td>\n",
       "      <td>1.185176</td>\n",
       "      <td>1.185176</td>\n",
       "      <td>1.185176</td>\n",
       "      <td>1.185176</td>\n",
       "      <td>1.185176</td>\n",
       "      <td>1.185176</td>\n",
       "    </tr>\n",
       "    <tr>\n",
       "      <th>520</th>\n",
       "      <td>1.339741</td>\n",
       "      <td>1.339741</td>\n",
       "      <td>1.339741</td>\n",
       "      <td>1.339741</td>\n",
       "      <td>1.339741</td>\n",
       "      <td>1.339741</td>\n",
       "      <td>1.339741</td>\n",
       "      <td>1.339741</td>\n",
       "    </tr>\n",
       "    <tr>\n",
       "      <th>521</th>\n",
       "      <td>1.351369</td>\n",
       "      <td>1.351369</td>\n",
       "      <td>1.351369</td>\n",
       "      <td>1.351369</td>\n",
       "      <td>1.351369</td>\n",
       "      <td>1.351369</td>\n",
       "      <td>1.351369</td>\n",
       "      <td>1.351369</td>\n",
       "    </tr>\n",
       "    <tr>\n",
       "      <th>522</th>\n",
       "      <td>1.069856</td>\n",
       "      <td>1.069856</td>\n",
       "      <td>1.069856</td>\n",
       "      <td>1.069856</td>\n",
       "      <td>1.069856</td>\n",
       "      <td>1.069856</td>\n",
       "      <td>1.069856</td>\n",
       "      <td>1.069856</td>\n",
       "    </tr>\n",
       "  </tbody>\n",
       "</table>\n",
       "<p>500 rows × 8 columns</p>\n",
       "</div>"
      ],
      "text/plain": [
       "     senz_412  senz_443  senz_488  senz_531  senz_547  senz_555  senz_667  \\\n",
       "0    1.180862  1.180862  1.180862  1.180862  1.180862  1.180862  1.180862   \n",
       "1    1.068795  1.068795  1.068795  1.068795  1.068795  1.068795  1.068795   \n",
       "2    1.061378  1.061378  1.061378  1.061378  1.061378  1.061378  1.061378   \n",
       "3    1.540993  1.540993  1.540993  1.540993  1.540993  1.540993  1.540993   \n",
       "4    1.562231  1.562231  1.562231  1.562231  1.562231  1.562231  1.562231   \n",
       "..        ...       ...       ...       ...       ...       ...       ...   \n",
       "518  1.546715  1.546715  1.546715  1.546715  1.546715  1.546715  1.546715   \n",
       "519  1.185176  1.185176  1.185176  1.185176  1.185176  1.185176  1.185176   \n",
       "520  1.339741  1.339741  1.339741  1.339741  1.339741  1.339741  1.339741   \n",
       "521  1.351369  1.351369  1.351369  1.351369  1.351369  1.351369  1.351369   \n",
       "522  1.069856  1.069856  1.069856  1.069856  1.069856  1.069856  1.069856   \n",
       "\n",
       "     senz_678  \n",
       "0    1.180862  \n",
       "1    1.068795  \n",
       "2    1.061378  \n",
       "3    1.540993  \n",
       "4    1.562231  \n",
       "..        ...  \n",
       "518  1.546715  \n",
       "519  1.185176  \n",
       "520  1.339741  \n",
       "521  1.351369  \n",
       "522  1.069856  \n",
       "\n",
       "[500 rows x 8 columns]"
      ]
     },
     "execution_count": 333,
     "metadata": {},
     "output_type": "execute_result"
    }
   ],
   "source": []
  },
  {
   "cell_type": "code",
   "execution_count": 338,
   "metadata": {},
   "outputs": [],
   "source": [
    "airmass =  1/np.cos(np.deg2rad(ndf[solz_names])).values + 1/np.cos(np.deg2rad(ndf[senz_names])).values\n"
   ]
  },
  {
   "cell_type": "code",
   "execution_count": 339,
   "metadata": {},
   "outputs": [
    {
     "name": "stderr",
     "output_type": "stream",
     "text": [
      "/accounts/aibrahi2/anaconda3/lib/python3.7/site-packages/pandas/core/frame.py:2963: SettingWithCopyWarning: \n",
      "A value is trying to be set on a copy of a slice from a DataFrame.\n",
      "Try using .loc[row_indexer,col_indexer] = value instead\n",
      "\n",
      "See the caveats in the documentation: https://pandas.pydata.org/pandas-docs/stable/user_guide/indexing.html#returning-a-view-versus-a-copy\n",
      "  self[k1] = value[k2]\n"
     ]
    }
   ],
   "source": [
    "ndf[water_vapor_names] = airmass*ndf[water_vapor_names]\n"
   ]
  },
  {
   "cell_type": "code",
   "execution_count": 343,
   "metadata": {},
   "outputs": [
    {
     "data": {
      "text/html": [
       "<div>\n",
       "<style scoped>\n",
       "    .dataframe tbody tr th:only-of-type {\n",
       "        vertical-align: middle;\n",
       "    }\n",
       "\n",
       "    .dataframe tbody tr th {\n",
       "        vertical-align: top;\n",
       "    }\n",
       "\n",
       "    .dataframe thead th {\n",
       "        text-align: right;\n",
       "    }\n",
       "</style>\n",
       "<table border=\"1\" class=\"dataframe\">\n",
       "  <thead>\n",
       "    <tr style=\"text-align: right;\">\n",
       "      <th></th>\n",
       "      <th>water_vapor_412</th>\n",
       "      <th>water_vapor_443</th>\n",
       "      <th>water_vapor_488</th>\n",
       "      <th>water_vapor_531</th>\n",
       "      <th>water_vapor_547</th>\n",
       "      <th>water_vapor_555</th>\n",
       "      <th>water_vapor_667</th>\n",
       "      <th>water_vapor_678</th>\n",
       "    </tr>\n",
       "  </thead>\n",
       "  <tbody>\n",
       "    <tr>\n",
       "      <th>0</th>\n",
       "      <td>3.383029</td>\n",
       "      <td>3.383029</td>\n",
       "      <td>3.383029</td>\n",
       "      <td>3.383029</td>\n",
       "      <td>3.383029</td>\n",
       "      <td>3.383029</td>\n",
       "      <td>3.383029</td>\n",
       "      <td>3.383029</td>\n",
       "    </tr>\n",
       "    <tr>\n",
       "      <th>1</th>\n",
       "      <td>2.623265</td>\n",
       "      <td>2.623265</td>\n",
       "      <td>2.623265</td>\n",
       "      <td>2.623265</td>\n",
       "      <td>2.623265</td>\n",
       "      <td>2.623265</td>\n",
       "      <td>2.623265</td>\n",
       "      <td>2.623265</td>\n",
       "    </tr>\n",
       "    <tr>\n",
       "      <th>2</th>\n",
       "      <td>3.329041</td>\n",
       "      <td>3.329041</td>\n",
       "      <td>3.329041</td>\n",
       "      <td>3.329041</td>\n",
       "      <td>3.329041</td>\n",
       "      <td>3.329041</td>\n",
       "      <td>3.329041</td>\n",
       "      <td>3.329041</td>\n",
       "    </tr>\n",
       "    <tr>\n",
       "      <th>3</th>\n",
       "      <td>2.573214</td>\n",
       "      <td>2.573214</td>\n",
       "      <td>2.573214</td>\n",
       "      <td>2.573214</td>\n",
       "      <td>2.573214</td>\n",
       "      <td>2.573214</td>\n",
       "      <td>2.573214</td>\n",
       "      <td>2.573214</td>\n",
       "    </tr>\n",
       "    <tr>\n",
       "      <th>4</th>\n",
       "      <td>3.094143</td>\n",
       "      <td>3.094143</td>\n",
       "      <td>3.094143</td>\n",
       "      <td>3.094143</td>\n",
       "      <td>3.094143</td>\n",
       "      <td>3.094143</td>\n",
       "      <td>3.094143</td>\n",
       "      <td>3.094143</td>\n",
       "    </tr>\n",
       "    <tr>\n",
       "      <th>...</th>\n",
       "      <td>...</td>\n",
       "      <td>...</td>\n",
       "      <td>...</td>\n",
       "      <td>...</td>\n",
       "      <td>...</td>\n",
       "      <td>...</td>\n",
       "      <td>...</td>\n",
       "      <td>...</td>\n",
       "    </tr>\n",
       "    <tr>\n",
       "      <th>518</th>\n",
       "      <td>2.391980</td>\n",
       "      <td>2.391980</td>\n",
       "      <td>2.391980</td>\n",
       "      <td>2.391980</td>\n",
       "      <td>2.391980</td>\n",
       "      <td>2.391980</td>\n",
       "      <td>2.391980</td>\n",
       "      <td>2.391980</td>\n",
       "    </tr>\n",
       "    <tr>\n",
       "      <th>519</th>\n",
       "      <td>2.691465</td>\n",
       "      <td>2.691465</td>\n",
       "      <td>2.691465</td>\n",
       "      <td>2.691465</td>\n",
       "      <td>2.691465</td>\n",
       "      <td>2.691465</td>\n",
       "      <td>2.691465</td>\n",
       "      <td>2.691465</td>\n",
       "    </tr>\n",
       "    <tr>\n",
       "      <th>520</th>\n",
       "      <td>2.821936</td>\n",
       "      <td>2.821936</td>\n",
       "      <td>2.821936</td>\n",
       "      <td>2.821936</td>\n",
       "      <td>2.821936</td>\n",
       "      <td>2.821936</td>\n",
       "      <td>2.821936</td>\n",
       "      <td>2.821936</td>\n",
       "    </tr>\n",
       "    <tr>\n",
       "      <th>521</th>\n",
       "      <td>2.785033</td>\n",
       "      <td>2.785033</td>\n",
       "      <td>2.785033</td>\n",
       "      <td>2.785033</td>\n",
       "      <td>2.785033</td>\n",
       "      <td>2.785033</td>\n",
       "      <td>2.785033</td>\n",
       "      <td>2.785033</td>\n",
       "    </tr>\n",
       "    <tr>\n",
       "      <th>522</th>\n",
       "      <td>2.767101</td>\n",
       "      <td>2.767101</td>\n",
       "      <td>2.767101</td>\n",
       "      <td>2.767101</td>\n",
       "      <td>2.767101</td>\n",
       "      <td>2.767101</td>\n",
       "      <td>2.767101</td>\n",
       "      <td>2.767101</td>\n",
       "    </tr>\n",
       "  </tbody>\n",
       "</table>\n",
       "<p>500 rows × 8 columns</p>\n",
       "</div>"
      ],
      "text/plain": [
       "     water_vapor_412  water_vapor_443  water_vapor_488  water_vapor_531  \\\n",
       "0           3.383029         3.383029         3.383029         3.383029   \n",
       "1           2.623265         2.623265         2.623265         2.623265   \n",
       "2           3.329041         3.329041         3.329041         3.329041   \n",
       "3           2.573214         2.573214         2.573214         2.573214   \n",
       "4           3.094143         3.094143         3.094143         3.094143   \n",
       "..               ...              ...              ...              ...   \n",
       "518         2.391980         2.391980         2.391980         2.391980   \n",
       "519         2.691465         2.691465         2.691465         2.691465   \n",
       "520         2.821936         2.821936         2.821936         2.821936   \n",
       "521         2.785033         2.785033         2.785033         2.785033   \n",
       "522         2.767101         2.767101         2.767101         2.767101   \n",
       "\n",
       "     water_vapor_547  water_vapor_555  water_vapor_667  water_vapor_678  \n",
       "0           3.383029         3.383029         3.383029         3.383029  \n",
       "1           2.623265         2.623265         2.623265         2.623265  \n",
       "2           3.329041         3.329041         3.329041         3.329041  \n",
       "3           2.573214         2.573214         2.573214         2.573214  \n",
       "4           3.094143         3.094143         3.094143         3.094143  \n",
       "..               ...              ...              ...              ...  \n",
       "518         2.391980         2.391980         2.391980         2.391980  \n",
       "519         2.691465         2.691465         2.691465         2.691465  \n",
       "520         2.821936         2.821936         2.821936         2.821936  \n",
       "521         2.785033         2.785033         2.785033         2.785033  \n",
       "522         2.767101         2.767101         2.767101         2.767101  \n",
       "\n",
       "[500 rows x 8 columns]"
      ]
     },
     "execution_count": 343,
     "metadata": {},
     "output_type": "execute_result"
    }
   ],
   "source": [
    "ndf[water_vapor_names] "
   ]
  },
  {
   "cell_type": "code",
   "execution_count": null,
   "metadata": {},
   "outputs": [],
   "source": []
  }
 ],
 "metadata": {
  "kernelspec": {
   "display_name": "Python 3",
   "language": "python",
   "name": "python3"
  },
  "language_info": {
   "codemirror_mode": {
    "name": "ipython",
    "version": 3
   },
   "file_extension": ".py",
   "mimetype": "text/x-python",
   "name": "python",
   "nbconvert_exporter": "python",
   "pygments_lexer": "ipython3",
   "version": "3.7.3"
  }
 },
 "nbformat": 4,
 "nbformat_minor": 4
}
