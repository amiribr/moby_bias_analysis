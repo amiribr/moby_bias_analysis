{
 "cells": [
  {
   "cell_type": "code",
   "execution_count": 1,
   "metadata": {},
   "outputs": [
    {
     "name": "stderr",
     "output_type": "stream",
     "text": [
      "WARNING (theano.tensor.blas): Using NumPy C-API based implementation for BLAS functions.\n"
     ]
    }
   ],
   "source": [
    "import pandas as pd\n",
    "import os\n",
    "import subprocess\n",
    "import zipfile\n",
    "import tarfile\n",
    "import numpy as np\n",
    "import matplotlib.pyplot as plt\n",
    "import pylab \n",
    "import scipy.stats as st\n",
    "import pymc3  as pm\n",
    "import seaborn as sns\n",
    "import arviz as az\n",
    "from sklearn.preprocessing import scale\n",
    "from matplotlib import rcParams\n",
    "from scipy import interpolate\n",
    "import matplotlib.cm as cm\n"
   ]
  },
  {
   "cell_type": "code",
   "execution_count": 2,
   "metadata": {},
   "outputs": [],
   "source": [
    "wave = np.array([412,443,488,531,547,555,667,678])\n",
    "λ = np.array([412, 443, 469, 488, 531, 547, 555, 645, 667, 678], dtype=np.int32)\n",
    "F0 = np.array([1729.12    , 1876.22    , 2058.78    , 1949.33    , 1857.47    ,\n",
    "       1865.39    , 1838.6901  , 1578.1101  , 1522.55    , 1480.52    ,\n",
    "       1280.65    ,  971.74005 ,  958.24    ,  454.66998 ,  239.76999 ,\n",
    "         98.850006], dtype=np.float32)\n",
    "F0i = interpolate.interp1d(λ, F0[:10])(wave).T"
   ]
  },
  {
   "cell_type": "code",
   "execution_count": 3,
   "metadata": {},
   "outputs": [],
   "source": [
    "ndata = len(wave)\n",
    "Lt_names = ['Lt_%d' % wv for wv in wave]\n",
    "Lr_names = ['Lr_%d' % wv for wv in wave]\n",
    "La_names = ['La_%d' % wv for wv in wave]\n",
    "TLg_names = ['TLg_%d' % wv for wv in wave]\n",
    "tLf_names = ['tLf_%d' % wv for wv in wave]\n",
    "polcor_names = ['polcor_%d' % wv for wv in wave]\n",
    "brdf_names = ['brdf_%d' % wv for wv in wave]\n",
    "Rrs_mob_names = ['Rrs_mob_%d' % wv for wv in wave]\n",
    "Rrs_aqua_names = ['Rrs_aqua_%d' % wv for wv in wave]\n",
    "\n",
    "chl_names = ['chlor_a_%d' % wv for wv in wave]\n",
    "relaz_names = ['relaz_%d' % wv for wv in wave]\n",
    "scat_names = ['scattang_%d' % wv for wv in wave]\n",
    "glint_names = ['glint_coef_%d' % wv for wv in wave]\n",
    "\n",
    "Lw_names = ['Lw_%d' % wv for wv in wave]\n",
    "tg_sol_names = ['tg_sol_%d' % wv for wv in wave]\n",
    "tg_sen_names = ['tg_sen_%d' % wv for wv in wave]\n",
    "aot_names = ['aot_%d' % wv for wv in wave]\n",
    "\n",
    "tsol_names = ['t_sol_%d' % wv for wv in wave]\n",
    "tsen_names = ['t_sen_%d' % wv for wv in wave]\n",
    "water_vapor_names = ['water_vapor_%d' % wv for wv in wave]\n",
    "solz_names = ['solz_%d' % wv for wv in wave]\n",
    "senz_names = ['senz_%d' % wv for wv in wave]\n",
    "angstrom_names = ['angstrom_%d' % wv for wv in wave]\n",
    "epsilon_names = ['epsilon_%d' % wv for wv in wave]\n",
    "windspeed_names = ['windspeed_%d' % wv for wv in wave]\n",
    "humidity_names = ['humidity_%d' % wv for wv in wave]\n",
    "pressure_names = ['pressure_%d' % wv for wv in wave]\n",
    "ozone_names = ['ozone_%d' % wv for wv in wave]\n",
    "rhot_names = ['rhot_%d' % wv for wv in wave]"
   ]
  },
  {
   "cell_type": "code",
   "execution_count": 4,
   "metadata": {},
   "outputs": [],
   "source": [
    "df = np.load('moby_df', allow_pickle=True)"
   ]
  },
  {
   "cell_type": "code",
   "execution_count": 5,
   "metadata": {},
   "outputs": [
    {
     "name": "stderr",
     "output_type": "stream",
     "text": [
      "/accounts/aibrahi2/anaconda3/lib/python3.7/site-packages/pandas/core/frame.py:2963: SettingWithCopyWarning: \n",
      "A value is trying to be set on a copy of a slice from a DataFrame.\n",
      "Try using .loc[row_indexer,col_indexer] = value instead\n",
      "\n",
      "See the caveats in the documentation: https://pandas.pydata.org/pandas-docs/stable/user_guide/indexing.html#returning-a-view-versus-a-copy\n",
      "  self[k1] = value[k2]\n"
     ]
    }
   ],
   "source": [
    "ndf = df.dropna()\n",
    "μ0 = np.cos(np.deg2rad(ndf[solz_names])).values \n",
    "μ = np.cos(np.deg2rad(ndf[senz_names])).values \n",
    "\n",
    "# ndf[Lt_names] = np.atleast_2d(fsol.values).T*ndf[Lt_names]\n",
    "# ndf[Lr_names] = np.atleast_2d(fsol.values).T*ndf[Lr_names]\n",
    "# ndf[La_names] = np.atleast_2d(fsol.values).T*ndf[La_names]\n",
    "# ndf[TLg_names] = np.atleast_2d(fsol.values).T*ndf[TLg_names]\n",
    "# ndf[tLf_names] = np.atleast_2d(fsol.values).T*ndf[tLf_names]\n",
    "\n",
    "# ndf[Lt_names] = ndf[Lt_names]/μ0/F0i\n",
    "# ndf[Lr_names] = ndf[Lr_names]/μ0/F0i\n",
    "# ndf[La_names] = ndf[La_names]/μ0/F0i\n",
    "# ndf[TLg_names] = ndf[TLg_names]/μ0/F0i\n",
    "# ndf[tLf_names] = ndf[tLf_names]/μ0/F0i\n",
    "\n",
    "airmass = 1/μ0 + 1/μ\n",
    "ndf[water_vapor_names] = airmass*ndf[water_vapor_names]\n",
    "ndf[ozone_names] = airmass*ndf[ozone_names]\n",
    "\n",
    "dfn = (ndf - ndf.mean())/ndf.std()\n"
   ]
  },
  {
   "cell_type": "code",
   "execution_count": 21,
   "metadata": {},
   "outputs": [
    {
     "name": "stderr",
     "output_type": "stream",
     "text": [
      "Auto-assigning NUTS sampler...\n",
      "Initializing NUTS using jitter+adapt_diag...\n",
      "Multiprocess sampling (4 chains in 4 jobs)\n",
      "NUTS: [σ, ν, β19, β18, β17, β16, β15, β14, β13, β12, β11, β10, β9, β8, β7, β6, β5, β4, β3, β2, β1, β0, α]\n",
      "Sampling 4 chains, 0 divergences: 100%|██████████| 6000/6000 [03:19<00:00, 30.14draws/s]\n"
     ]
    }
   ],
   "source": [
    "indx = np.arange(0,len(wave))\n",
    "\n",
    "with pm.Model() as pooled_model_ST_MLR:\n",
    "#     hyp_α_sd = pm.HalfCauchy('hyp_α_sd', 1)\n",
    "#     hyp_β_sd = pm.HalfCauchy('hyp_β_sd', 1)\n",
    "\n",
    "    hyp_β_sd = .5\n",
    "    hyp_α_sd = 1.0\n",
    "    \n",
    "    # Independent parameters for each county\n",
    "    α = pm.Normal('α', 0, sd=hyp_α_sd, shape=ndata)\n",
    "    β0 = pm.Normal('β0', 1, sd=hyp_β_sd, shape=ndata)\n",
    "    β1 = pm.Normal('β1', 0, sd=hyp_β_sd, shape=ndata)\n",
    "    β2 = pm.Normal('β2', 0, sd=hyp_β_sd, shape=ndata)\n",
    "    β3 = pm.Normal('β3', 0, sd=hyp_β_sd, shape=ndata)\n",
    "    β4 = pm.Normal('β4', 0, sd=hyp_β_sd, shape=ndata)\n",
    "    β5 = pm.Normal('β5', 0, sd=hyp_β_sd, shape=ndata)\n",
    "    β6 = pm.Normal('β6', 0, sd=hyp_β_sd, shape=ndata)\n",
    "    β7 = pm.Normal('β7', 0, sd=hyp_β_sd, shape=ndata)\n",
    "    β8 = pm.Normal('β8', 0, sd=hyp_β_sd, shape=ndata)\n",
    "    β9 = pm.Normal('β9', 0, sd=hyp_β_sd, shape=ndata)\n",
    "    β10 = pm.Normal('β10', 0, sd=hyp_β_sd, shape=ndata)\n",
    "    β11 = pm.Normal('β11', 0, sd=hyp_β_sd, shape=ndata)\n",
    "    β12 = pm.Normal('β12', 0, sd=hyp_β_sd, shape=ndata)\n",
    "    β13 = pm.Normal('β13', 0, sd=hyp_β_sd, shape=ndata)\n",
    "    β14 = pm.Normal('β14', 0, sd=hyp_β_sd, shape=ndata)\n",
    "    β15 = pm.Normal('β15', 0, sd=hyp_β_sd, shape=ndata)\n",
    "    β16 = pm.Normal('β16', 0, sd=hyp_β_sd, shape=ndata)\n",
    "    β17 = pm.Normal('β17', 0, sd=hyp_β_sd, shape=ndata)\n",
    "    β18 = pm.Normal('β18', 0, sd=hyp_β_sd, shape=ndata)\n",
    "    β19 = pm.Normal('β19', 0, sd=hyp_β_sd, shape=ndata)    \n",
    "    \n",
    "    # Model DOF\n",
    "    ν = pm.Exponential('ν', 1/30)\n",
    "\n",
    "    # Model error\n",
    "    σ = pm.HalfCauchy('σ', 1)\n",
    "    \n",
    "    Rrs_est = α[indx] + β0[indx]*dfn[Rrs_mob_names] + β1[indx]*dfn[brdf_names]  +\\\n",
    "               β2[indx]*dfn[windspeed_names] + β3[indx]*dfn[glint_names] +\\\n",
    "               β4[indx]*dfn[solz_names]  + β5[indx]*dfn[senz_names] +\\\n",
    "               β6[indx]*dfn[relaz_names] + β7[indx]*dfn[windspeed_names] +\\\n",
    "               β8[indx]*dfn[water_vapor_names]+ β9[indx]*dfn[humidity_names] +\\\n",
    "               β10[indx]*dfn[pressure_names] + β11[indx]*dfn[ozone_names] +\\\n",
    "               β12[indx]*dfn[angstrom_names] + β13[indx]*dfn[epsilon_names] +\\\n",
    "               β14[indx]*dfn[aot_names] + β15[indx]*dfn[polcor_names] +\\\n",
    "               β16[indx]*dfn[Lr_names] +  β17[indx]*dfn[La_names] +\\\n",
    "               β18[indx]*dfn[tLf_names]+ β19[indx]*dfn[TLg_names]\n",
    "#     Rrs_est = α[indx] + β0[indx]*dfn[Rrs_mob_names] + β1[indx]*dfn[solz_names]  +\\\n",
    "#                β2[indx]*dfn[senz_names] + β3[indx]*dfn[relaz_names]\n",
    "    \n",
    "#     Rrs_est = α[indx] + β0[indx]*dfn[Rrs_mob_names] + β1[indx]*dfn[windspeed_names]  +\\\n",
    "#                β2[indx]*dfn[water_vapor_names] + β3[indx]*dfn[humidity_names] +\\\n",
    "#                β4[indx]*dfn[pressure_names] + β5[indx]*dfn[ozone_names]\n",
    "\n",
    "#     Rrs_est = α[indx] + β0[indx]*dfn[Rrs_mob_names] + β1[indx]*dfn[angstrom_names]  +\\\n",
    "#                β2[indx]*dfn[epsilon_names] + β3[indx]*dfn[aot_names]+ β4[indx]*dfn[polcor_names]\n",
    "\n",
    "#     Rrs_est = α[indx] + β0[indx]*dfn[Rrs_mob_names] + β1[indx]*dfn[Lr_names]  +\\\n",
    "#                β2[indx]*dfn[La_names] + β3[indx]*dfn[tLf_names]+ β4[indx]*dfn[TLg_names]\n",
    "\n",
    "#     Rrs_est = α[indx] + β0[indx]*dfn[Rrs_mob_names] + β1[indx]*dfn[tsol_names]  +\\\n",
    "#                β2[indx]*dfn[tsen_names] + β3[indx]*dfn[tg_sol_names]+ β4[indx]*dfn[tg_sen_names]\n",
    "\n",
    "\n",
    "    # Data likelihood\n",
    "    likelihood = pm.StudentT('Rrs_est', mu=Rrs_est, sd=σ, nu=ν, observed=dfn[Rrs_aqua_names])\n",
    "    \n",
    "with pooled_model_ST_MLR:\n",
    "    trace_hc_mlr = pm.sample(1000,tune=500)"
   ]
  },
  {
   "cell_type": "code",
   "execution_count": 23,
   "metadata": {},
   "outputs": [
    {
     "data": {
      "image/png": "[encoded data removed]",
      "text/plain": [
       "<Figure size 432x475.2 with 1 Axes>"
      ]
     },
     "metadata": {
      "needs_background": "light"
     },
     "output_type": "display_data"
    }
   ],
   "source": [
    "ax = az.plot_forest([np.flipud(trace_hc_mlr['β0'].T), np.flipud(trace_hc_mlr['β0'].T)])\n"
   ]
  },
  {
   "cell_type": "code",
   "execution_count": null,
   "metadata": {},
   "outputs": [],
   "source": []
  }
 ],
 "metadata": {
  "kernelspec": {
   "display_name": "Python 3",
   "language": "python",
   "name": "python3"
  }
 },
 "nbformat": 4,
 "nbformat_minor": 4
}
