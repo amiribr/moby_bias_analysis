{
 "cells": [
  {
   "cell_type": "code",
   "execution_count": 6,
   "metadata": {},
   "outputs": [],
   "source": [
    "import glob\n",
    "import os\n",
    "import scipy.stats as stats\n",
    "import numpy as np\n",
    "import matplotlib.pyplot as plt\n",
    "import xarray as xr\n",
    "import pandas as pd\n",
    "from tqdm import tqdm as tqdm\n",
    "from netCDF4 import Dataset"
   ]
  },
  {
   "cell_type": "code",
   "execution_count": 7,
   "metadata": {},
   "outputs": [],
   "source": [
    "dirname = '/glusteruser/aibrahi2/MOBY_vcal/L2/'"
   ]
  },
  {
   "cell_type": "code",
   "execution_count": 174,
   "metadata": {},
   "outputs": [],
   "source": [
    "filenames = []\n",
    "order = []\n",
    "for i, filename in enumerate(glob.glob(dirname + '*.nc')):\n",
    "    if os.path.getsize(filename)*1e-9 > 0.00:\n",
    "        filenames.append(filename)\n",
    "    order.append(np.int(str.split(str.split(filename,'/')[-1], '_')[0]))\n",
    "ix = np.argsort(np.array(order))\n",
    "min_ = np.sort(np.array(order)).min()\n",
    "max_ = np.sort(np.array(order)).max()\n",
    "sort_order = np.arange(min_,max_+1)\n",
    "sorted_fnames = []\n",
    "c=0\n",
    "for i, num in enumerate(sort_order):\n",
    "    if num in np.sort(np.array(order)):\n",
    "        sorted_fnames.append(filenames[ix[c]])\n",
    "        c += 1\n",
    "    else:\n",
    "        sorted_fnames.append('NA')"
   ]
  },
  {
   "cell_type": "code",
   "execution_count": 175,
   "metadata": {},
   "outputs": [],
   "source": [
    "nc_fid = Dataset(sorted_fnames[0], 'r')\n",
    "bands = nc_fid['sensor_band_parameters']['wavelength'][:].data\n",
    "nc_fid.close()"
   ]
  },
  {
   "cell_type": "code",
   "execution_count": 176,
   "metadata": {},
   "outputs": [],
   "source": [
    "λ = bands[0:16]"
   ]
  },
  {
   "cell_type": "code",
   "execution_count": 177,
   "metadata": {},
   "outputs": [],
   "source": [
    "Rrs_names = []\n",
    "for w in λ:\n",
    "    b = bands[np.where(bands<=w)[0][-1]]\n",
    "    Rrs_names.append('Rrs_%d' % b)"
   ]
  },
  {
   "cell_type": "code",
   "execution_count": 217,
   "metadata": {},
   "outputs": [
    {
     "name": "stderr",
     "output_type": "stream",
     "text": [
      " 34%|███▍      | 180/523 [00:20<00:35,  9.80it/s]"
     ]
    },
    {
     "name": "stdout",
     "output_type": "stream",
     "text": [
      "Can not read this file NA\n"
     ]
    },
    {
     "name": "stderr",
     "output_type": "stream",
     "text": [
      " 36%|███▌      | 189/523 [00:21<00:27, 12.18it/s]"
     ]
    },
    {
     "name": "stdout",
     "output_type": "stream",
     "text": [
      "Can not read this file NA\n",
      "Can not read this file NA\n",
      "Can not read this file NA\n"
     ]
    },
    {
     "name": "stderr",
     "output_type": "stream",
     "text": [
      " 37%|███▋      | 193/523 [00:21<00:23, 13.82it/s]"
     ]
    },
    {
     "name": "stdout",
     "output_type": "stream",
     "text": [
      "Can not read this file NA\n",
      "Can not read this file NA\n"
     ]
    },
    {
     "name": "stderr",
     "output_type": "stream",
     "text": [
      " 38%|███▊      | 199/523 [00:22<00:23, 13.67it/s]"
     ]
    },
    {
     "name": "stdout",
     "output_type": "stream",
     "text": [
      "Can not read this file NA\n",
      "Can not read this file NA\n",
      "Can not read this file NA\n"
     ]
    },
    {
     "name": "stderr",
     "output_type": "stream",
     "text": [
      " 39%|███▉      | 205/523 [00:22<00:25, 12.65it/s]"
     ]
    },
    {
     "name": "stdout",
     "output_type": "stream",
     "text": [
      "Can not read this file NA\n"
     ]
    },
    {
     "name": "stderr",
     "output_type": "stream",
     "text": [
      " 42%|████▏     | 219/523 [00:24<00:28, 10.57it/s]"
     ]
    },
    {
     "name": "stdout",
     "output_type": "stream",
     "text": [
      "Can not read this file NA\n",
      "Can not read this file NA\n",
      "Can not read this file NA\n"
     ]
    },
    {
     "name": "stderr",
     "output_type": "stream",
     "text": [
      " 88%|████████▊ | 462/523 [00:58<00:06,  8.88it/s]"
     ]
    },
    {
     "name": "stdout",
     "output_type": "stream",
     "text": [
      "Can not read this file NA\n"
     ]
    },
    {
     "name": "stderr",
     "output_type": "stream",
     "text": [
      "100%|██████████| 523/523 [01:06<00:00,  7.90it/s]\n"
     ]
    }
   ],
   "source": [
    "Rrs = np.empty((len(λ), 11*11, len(sorted_fnames)))\n",
    "f = np.empty((11*11, len(sorted_fnames)))\n",
    "Rrs_mask = np.empty((11*11, len(sorted_fnames)))\n",
    "\n",
    "for i, filename in enumerate(tqdm(sorted_fnames)):\n",
    "    try:\n",
    "        nc_fid = Dataset(filename, 'r')\n",
    "        f_temp = nc_fid['geophysical_data']['l2_flags'][:].data.ravel()\n",
    "        if len(f_temp) <=121:\n",
    "            f[:,i] = np.pad(f_temp, (0,np.abs(121 - len(f_temp))))\n",
    "            for l in range(len(λ)):\n",
    "                Rrs_temp = nc_fid['geophysical_data'][Rrs_names[l]][:].data.ravel()\n",
    "                Rrs[l,:,i] =  np.pad(Rrs_temp, (0,np.abs(121 - len(Rrs_temp))))\n",
    "    #             Rrs_mask[l,:,i] = (Rrs[l,:,i] > 0) & (Rrs[l,:,i] < 1)\n",
    "    except OSError and IndexError and  FileNotFoundError:\n",
    "        print('Can not read this file ' + filename)\n",
    "\n",
    "Rrs[(Rrs<0) | (Rrs > 1)] = np.nan"
   ]
  },
  {
   "cell_type": "code",
   "execution_count": 285,
   "metadata": {},
   "outputs": [
    {
     "data": {
      "text/plain": [
       "[<matplotlib.lines.Line2D at 0x7fdb956d7b70>]"
      ]
     },
     "execution_count": 285,
     "metadata": {},
     "output_type": "execute_result"
    },
    {
     "data": {
      "image/png": "[encoded data removed]",
      "text/plain": [
       "<Figure size 432x288 with 1 Axes>"
      ]
     },
     "metadata": {
      "needs_background": "light"
     },
     "output_type": "display_data"
    }
   ],
   "source": [
    "plt.plot(λ[0:10], np.median(Rrs[0:10,:,200], axis=1), '--o');\n",
    "plt.plot(mw, Rrs_aqua[200,:],  '--o')"
   ]
  },
  {
   "cell_type": "code",
   "execution_count": 273,
   "metadata": {},
   "outputs": [
    {
     "data": {
      "text/plain": [
       "array([0.01220129, 0.00849681, 0.0073977 , 0.00570407, 0.00176129,\n",
       "       0.00128344, 0.00103203,        nan,        nan,        nan])"
      ]
     },
     "execution_count": 273,
     "metadata": {},
     "output_type": "execute_result"
    }
   ],
   "source": [
    "np.mean(Rrs[0:10,:,10], axis=1)"
   ]
  },
  {
   "cell_type": "code",
   "execution_count": 247,
   "metadata": {},
   "outputs": [],
   "source": [
    "np.save('Rrs_aqua', Rrs_aqua)"
   ]
  },
  {
   "cell_type": "code",
   "execution_count": 260,
   "metadata": {},
   "outputs": [],
   "source": [
    "Rrs_aqua = np.reshape(Rrs_aqua, (523,8))"
   ]
  },
  {
   "cell_type": "code",
   "execution_count": 250,
   "metadata": {},
   "outputs": [
    {
     "data": {
      "text/plain": [
       "523.0"
      ]
     },
     "execution_count": 250,
     "metadata": {},
     "output_type": "execute_result"
    }
   ],
   "source": [
    "4184/8"
   ]
  },
  {
   "cell_type": "code",
   "execution_count": 252,
   "metadata": {},
   "outputs": [],
   "source": [
    "mw = np.array([412,443,488,531,547,555,667,678])"
   ]
  },
  {
   "cell_type": "code",
   "execution_count": null,
   "metadata": {},
   "outputs": [],
   "source": []
  }
 ],
 "metadata": {
  "kernelspec": {
   "display_name": "Python 3",
   "language": "python",
   "name": "python3"
  },
  "language_info": {
   "codemirror_mode": {
    "name": "ipython",
    "version": 3
   },
   "file_extension": ".py",
   "mimetype": "text/x-python",
   "name": "python",
   "nbconvert_exporter": "python",
   "pygments_lexer": "ipython3",
   "version": "3.7.3"
  }
 },
 "nbformat": 4,
 "nbformat_minor": 4
}
