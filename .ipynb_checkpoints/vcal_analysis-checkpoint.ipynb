{
 "cells": [
  {
   "cell_type": "code",
   "execution_count": 1,
   "metadata": {},
   "outputs": [
    {
     "name": "stderr",
     "output_type": "stream",
     "text": [
      "WARNING (theano.tensor.blas): Using NumPy C-API based implementation for BLAS functions.\n"
     ]
    }
   ],
   "source": [
    "import pandas as pd\n",
    "import os\n",
    "import subprocess\n",
    "import zipfile\n",
    "import tarfile\n",
    "import numpy as np\n",
    "import matplotlib.pyplot as plt\n",
    "import pylab \n",
    "import scipy.stats as st\n",
    "import pymc3  as pm\n",
    "import seaborn as sns\n",
    "import arviz as az\n",
    "from sklearn.preprocessing import scale\n",
    "from matplotlib import rcParams\n",
    "from scipy import interpolate"
   ]
  },
  {
   "cell_type": "code",
   "execution_count": 133,
   "metadata": {},
   "outputs": [],
   "source": [
    "# Load in data\n",
    "wave = np.array([412,443,488,531,547,555,667,678])\n",
    "λ = np.array([412, 443, 469, 488, 531, 547, 555, 645, 667, 678], dtype=np.int32)\n",
    "\n",
    "Rrs_aqua = np.load('Rrs_aqua.npy')\n",
    "Rrs_mob = np.load('Rrs_mob.npy')\n",
    "Lt = np.load('Lt.npy')\n",
    "chlor_a = np.load('chlor_a.npy')\n",
    "La = np.load('La.npy')\n",
    "Lr = np.load('Lr.npy')\n",
    "rhot = np.load('rhot.npy')\n",
    "TLg = np.load('TLg.npy')\n",
    "polcor = np.load('polcor.npy')\n",
    "Es = np.load('Es.npy')\n",
    "brdf = np.load('brdf.npy')\n",
    "tLf = np.load('tLf.npy')\n",
    "t_sol = np.load('t_sol.npy')\n",
    "t_sen = np.load('t_sen.npy')\n",
    "glint_coef = np.load('glint_coef.npy')\n",
    "relaz = np.load('relaz.npy')\n",
    "scattang = np.load('scattang.npy')\n",
    "\n",
    "tg_sol = np.load('tg_sol.npy')\n",
    "tg_sen = np.load('tg_sen.npy')\n",
    "Lw = np.load('Lw.npy')\n",
    "aot = np.load('aot.npy')\n",
    "water_vapor = np.load('water_vapor.npy')\n",
    "solz = np.load('solz.npy')\n",
    "senz = np.load('senz.npy')\n",
    "epsilon = np.load('epsilon.npy')\n",
    "angstrom = np.load('angstrom.npy')\n",
    "windspeed = np.load('windspeed.npy')\n",
    "humidity = np.load('humidity.npy')\n",
    "pressure = np.load('pressure.npy')\n",
    "ozone = np.load('ozone.npy')\n",
    "\n",
    "\n",
    "\n",
    "Lt[(Lt<0) | (Lt > 1000)] = np.nan\n",
    "chlor_a[(chlor_a<0) | (chlor_a > 100)] = np.nan\n",
    "La[(La<0) | (La > 1000)] = np.nan\n",
    "Lr[(Lr<0) | (Lr > 1000)] = np.nan\n",
    "rhot[(rhot<0) | (rhot > 1000)] = np.nan\n",
    "TLg[(TLg<0) | (TLg > 1000)] = np.nan\n",
    "polcor[(polcor<0) | (polcor > 1000)] = np.nan\n",
    "Es[(Es<0) | (Es > 100000)] = np.nan\n",
    "brdf[(brdf<0) | (brdf > 100)] = np.nan\n",
    "tLf[(tLf<0) | (tLf > 100)] = np.nan\n",
    "t_sol[(t_sol<0) | (t_sol > 10)] = np.nan\n",
    "t_sen[(t_sen<0) | (t_sen > 10)] = np.nan\n",
    "\n",
    "tg_sol[(tg_sol<0) | (tg_sol > 10)] = np.nan\n",
    "tg_sen[(tg_sen<0) | (tg_sen > 10)] = np.nan\n",
    "Lw[(Lw<0) | (Lw > 100)] = np.nan\n",
    "aot[(aot<0) | (aot > 10)] = np.nan\n",
    "\n",
    "\n",
    "relaz[(relaz<-360) | (relaz > 360)] = np.nan\n",
    "scattang[(scattang<0) | (scattang > 360)] = np.nan\n",
    "glint_coef[(glint_coef<0) | (glint_coef > 0.05)] = np.nan\n",
    "\n",
    "\n",
    "chlor_a = np.nanmedian(chlor_a, axis=0)\n",
    "relaz = np.nanmedian(relaz, axis=0)\n",
    "scattang = np.nanmedian(scattang, axis=0)\n",
    "glint_coef = np.nanmedian(glint_coef, axis=0)\n",
    "\n",
    "Lt = np.nanmedian(Lt,axis=1)\n",
    "La = np.nanmedian(La,axis=1)\n",
    "Lr = np.nanmedian(Lr,axis=1)\n",
    "rhot = np.nanmedian(rhot,axis=1)\n",
    "TLg = np.nanmedian(TLg,axis=1)\n",
    "polcor = np.nanmedian(polcor,axis=1)\n",
    "Es = np.nanmedian(Es,axis=1)\n",
    "brdf = np.nanmedian(brdf,axis=1)\n",
    "tLf = np.nanmedian(tLf,axis=1)\n",
    "t_sol = np.nanmedian(t_sol,axis=1)\n",
    "t_sen = np.nanmedian(t_sen,axis=1)\n",
    "\n",
    "tg_sol = np.nanmedian(tg_sol,axis=1)\n",
    "tg_sen = np.nanmedian(tg_sen, axis=1)\n",
    "Lw = np.nanmedian(Lw,axis=1)\n",
    "aot = np.nanmedian(aot,axis=1)\n",
    "water_vapor = np.nanmedian(water_vapor,axis=0)\n",
    "solz = np.nanmedian(solz,axis=0)\n",
    "senz = np.nanmedian(senz,axis=0)\n",
    "angstrom = np.nanmedian(angstrom,axis=0)\n",
    "epsilon = np.nanmedian(epsilon,axis=0)\n",
    "windspeed = np.nanmedian(windspeed,axis=0)\n",
    "humidity = np.nanmedian(humidity,axis=0)\n",
    "pressure = np.nanmedian(pressure,axis=0)\n",
    "ozone = np.nanmedian(ozone,axis=0)\n",
    "\n",
    "Lti = interpolate.interp1d(λ, Lt.T)(wave).T\n",
    "Lri = interpolate.interp1d(λ, Lr.T)(wave).T\n",
    "Lai = interpolate.interp1d(λ, La.T)(wave).T\n",
    "rhoti = interpolate.interp1d(λ, rhot.T)(wave).T\n",
    "TLgi = interpolate.interp1d(λ, TLg.T)(wave).T\n",
    "polcori = interpolate.interp1d(λ, Lt.T)(wave).T\n",
    "Esi = interpolate.interp1d(λ, Es.T)(wave).T\n",
    "brdfi = interpolate.interp1d(λ, brdf.T)(wave).T\n",
    "tLfi = interpolate.interp1d(λ, tLf.T)(wave).T\n",
    "t_soli = interpolate.interp1d(λ, t_sol.T)(wave).T\n",
    "t_seni = interpolate.interp1d(λ, t_sen.T)(wave).T\n",
    "tg_soli = interpolate.interp1d(λ, tg_sol.T)(wave).T\n",
    "tg_seni = interpolate.interp1d(λ, tg_sen.T)(wave).T\n",
    "Lwi = interpolate.interp1d(λ, Lw.T)(wave).T\n",
    "aoti = interpolate.interp1d(λ, aot.T)(wave).T"
   ]
  },
  {
   "cell_type": "code",
   "execution_count": 134,
   "metadata": {},
   "outputs": [],
   "source": [
    "ndata = len(wave)\n",
    "Lt_names = ['Lt_%d' % wv for wv in wave]\n",
    "Lr_names = ['Lr_%d' % wv for wv in wave]\n",
    "La_names = ['La_%d' % wv for wv in wave]\n",
    "TLg_names = ['TLg_%d' % wv for wv in wave]\n",
    "polcor_names = ['polcor_%d' % wv for wv in wave]\n",
    "brdf_names = ['brdf_%d' % wv for wv in wave]\n",
    "Rrs_mob_names = ['Rrs_mob_%d' % wv for wv in wave]\n",
    "Rrs_aqua_names = ['Rrs_aqua_%d' % wv for wv in wave]\n",
    "\n",
    "chl_names = ['chlor_a_%d' % wv for wv in wave]\n",
    "relaz_names = ['relaz_%d' % wv for wv in wave]\n",
    "scat_names = ['scattang_%d' % wv for wv in wave]\n",
    "glint_names = ['glint_coef_%d' % wv for wv in wave]\n",
    "\n",
    "Lw_names = ['Lw_%d' % wv for wv in wave]\n",
    "tg_sol_names = ['tg_sol_%d' % wv for wv in wave]\n",
    "tg_sen_names = ['tg_sen_%d' % wv for wv in wave]\n",
    "aot_names = ['aot_%d' % wv for wv in wave]\n",
    "\n",
    "# water_vapor = np.nanmedian(water_vapor,axis=1)\n",
    "# solz = np.nanmedian(solz,axis=1)\n",
    "# senz = np.nanmedian(senz,axis=1)\n",
    "# angstrom = np.nanmedian(angstrom,axis=1)\n",
    "# epsilon = np.nanmedian(epsilon,axis=1)\n",
    "# windspeed = np.nanmedian(windspeed,axis=1)\n",
    "# humidity = np.nanmedian(humidity,axis=1)\n",
    "# pressure = np.nanmedian(pressure,axis=1)\n",
    "# ozone = np.nanmedian(ozone,axis=1)\n",
    "\n",
    "water_vapor_names = ['water_vapor_%d' % wv for wv in wave]\n",
    "solz_names = ['solz_%d' % wv for wv in wave]\n",
    "senz_names = ['senz_%d' % wv for wv in wave]\n",
    "angstrom_names = ['angstrom_%d' % wv for wv in wave]\n",
    "epsilon_names = ['epsilon_%d' % wv for wv in wave]\n",
    "windspeed_names = ['windspeed_%d' % wv for wv in wave]\n",
    "humidity_names = ['humidity_%d' % wv for wv in wave]\n",
    "pressure_names = ['pressure_%d' % wv for wv in wave]\n",
    "ozone_names = ['ozone_%d' % wv for wv in wave]\n",
    "\n",
    "\n",
    "chl_rep = np.repeat(np.atleast_2d(chlor_a),8, axis=0)\n",
    "relaz_rep = np.repeat(np.atleast_2d(relaz),8, axis=0)\n",
    "scattang_rep = np.repeat(np.atleast_2d(scattang),8, axis=0)\n",
    "glint_coef_rep = np.repeat(np.atleast_2d(glint_coef),8, axis=0)\n",
    "\n",
    "water_vapor_rep = np.repeat(np.atleast_2d(water_vapor),8, axis=0)\n",
    "solz_rep = np.repeat(np.atleast_2d(solz),8, axis=0)\n",
    "senz_rep = np.repeat(np.atleast_2d(senz),8, axis=0)\n",
    "angstrom_rep = np.repeat(np.atleast_2d(angstrom),8, axis=0)\n",
    "epsilon_rep = np.repeat(np.atleast_2d(epsilon),8, axis=0)\n",
    "windspeed_rep = np.repeat(np.atleast_2d(windspeed),8, axis=0)\n",
    "humidity_rep = np.repeat(np.atleast_2d(humidity),8, axis=0)\n",
    "pressure_rep = np.repeat(np.atleast_2d(pressure),8, axis=0)\n",
    "ozone_rep = np.repeat(np.atleast_2d(ozone),8, axis=0)\n",
    "\n",
    "colnames = water_vapor_names + solz_names+senz_names+angstrom_names+epsilon_names+\\\n",
    "            windspeed_names+humidity_names+pressure_names+ozone_names+\\\n",
    "            chl_names + relaz_names+ scat_names + glint_names +\\\n",
    "            ['Rrs_mob_%d' % wv for wv in wave]+ ['Rrs_aqua_%d' % wv for wv in wave] +\\\n",
    "                ['Lt_%d' % wv for wv in wave] + ['La_%d' % wv for wv in wave] +\\\n",
    "                  ['Lr_%d' % wv for wv in wave] + ['rhot_%d' % wv for wv in wave] +\\\n",
    "                ['TLg_%d' % wv for wv in wave] + ['polcor_%d' % wv for wv in wave] +\\\n",
    "                ['Es_%d' % wv for wv in wave] + ['brdf_%d' % wv for wv in wave] +\\\n",
    "                ['tLf_%d' % wv for wv in wave] + ['t_sol_%d' % wv for wv in wave] +\\\n",
    "                ['t_sen_%d' % wv for wv in wave] + ['Rrs_diff_%d' % wv for wv in wave] + \\\n",
    "                ['tg_sol_%d' % wv for wv in wave] + ['tg_sen_%d' % wv for wv in wave] +\\\n",
    "                ['Lw_%d' % wv for wv in wave] + ['aot_%d' % wv for wv in wave]\n",
    "df = pd.DataFrame(np.r_[water_vapor_rep,solz_rep,senz_rep,angstrom_rep,epsilon_rep,\n",
    "                        windspeed_rep,humidity_rep,pressure_rep,ozone_rep,\n",
    "                        chl_rep,relaz_rep, scattang_rep,glint_coef_rep, Rrs_mob.T, Rrs_aqua.T, Lti, Lai, Lri, rhoti, TLgi, polcori, Esi, brdfi,\n",
    "                       tLfi, t_soli, t_seni, (Rrs_mob.T - Rrs_aqua.T), tg_soli, tg_seni, Lwi, aoti].T, \n",
    "                  columns = colnames)\n",
    "\n",
    "lt_df_s = (df[Lt_names] - df[Lt_names].mean(axis=0)) / (df[Lt_names].std(axis=0))\n",
    "\n",
    "ndf = df.dropna()\n",
    "dfn = (ndf - ndf.mean())/ndf.std()\n",
    "# np.repeat(np.atleast_2d(chlor_a),8, axis=0),"
   ]
  },
  {
   "cell_type": "code",
   "execution_count": 234,
   "metadata": {},
   "outputs": [
    {
     "name": "stderr",
     "output_type": "stream",
     "text": [
      "Auto-assigning NUTS sampler...\n",
      "Initializing NUTS using jitter+adapt_diag...\n",
      "Multiprocess sampling (4 chains in 4 jobs)\n",
      "NUTS: [σ, ν, β2, β1, β0, α, hyp_β_sd, hyp_α_sd]\n",
      "Sampling 4 chains, 10 divergences: 100%|██████████| 8000/8000 [00:17<00:00, 462.76draws/s]\n",
      "There were 4 divergences after tuning. Increase `target_accept` or reparameterize.\n",
      "There were 5 divergences after tuning. Increase `target_accept` or reparameterize.\n",
      "There was 1 divergence after tuning. Increase `target_accept` or reparameterize.\n",
      "The number of effective samples is smaller than 10% for some parameters.\n"
     ]
    }
   ],
   "source": [
    "indx = np.arange(0,len(wave))\n",
    "\n",
    "with pm.Model() as pooled_model_ST_MLR:\n",
    "    hyp_α_sd = pm.HalfCauchy('hyp_α_sd', 1)\n",
    "    hyp_β_sd = pm.HalfCauchy('hyp_β_sd', 1)\n",
    "    \n",
    "    # Independent parameters for each county\n",
    "    α = pm.Normal('α', 0, sd=hyp_α_sd, shape=ndata)\n",
    "    β0 = pm.Normal('β0', 0, sd=hyp_β_sd, shape=ndata)\n",
    "    β1 = pm.Normal('β1', 0, sd=hyp_β_sd, shape=ndata)\n",
    "    β2 = pm.Normal('β2', 0, sd=hyp_β_sd, shape=ndata)\n",
    "#     β3 = pm.Normal('β3', 0, sd=hyp_β_sd, shape=ndata)\n",
    "#     β4 = pm.Normal('β4', 0, sd=hyp_β_sd, shape=ndata)\n",
    "    \n",
    "    # Model DOF\n",
    "    ν = pm.Exponential('ν', 1/30)\n",
    "\n",
    "    # Model error\n",
    "    σ = pm.HalfCauchy('σ', 10)\n",
    "\n",
    "    # Model prediction of radon level\n",
    "    # a[county_idx] translates to a[0, 0, 0, 1, 1, ...],\n",
    "    # we thus link multiple household measures of a county\n",
    "    # to its coefficients.\n",
    "    Rrs_est = α[indx] + β0[indx]*dfn[Rrs_mob_names] + β1[indx]*dfn[Lt_names] \n",
    "#     + β1[indx]*θ0 \\\n",
    "#                 + β2[indx]*θ + β3[indx]*ϕ \\\n",
    "#                 + β4[indx]*ws\n",
    "\n",
    "    # Data likelihood\n",
    "    likelihood = pm.StudentT('Rrs_est', mu=Rrs_est, sd=σ, nu=ν, observed=dfn[Rrs_aqua_names])\n",
    "    \n",
    "with pooled_model_ST_MLR:\n",
    "    trace_hc_mlr = pm.sample(1000,tune=1000)"
   ]
  },
  {
   "cell_type": "code",
   "execution_count": 235,
   "metadata": {},
   "outputs": [
    {
     "data": {
      "image/png": "[encoded data removed]",
      "text/plain": [
       "<Figure size 432x604.8 with 1 Axes>"
      ]
     },
     "metadata": {
      "needs_background": "light"
     },
     "output_type": "display_data"
    }
   ],
   "source": [
    "ax = az.plot_forest([np.flipud(trace_hc_mlr['β0'].T), np.flipud(trace_hc_mlr['β1'].T),\n",
    "               np.flipud(trace_hc_mlr['β2'].T)], \n",
    "               model_names=[ 'Rrs','glint','scat_ang'])\n",
    "\n",
    "# az.plot_forest([np.flipud(trace_hc_mlr['β2'].T), ], model_names=[ 'glint',])\n",
    "ax[0].axvline(0, color='k', ls='--');\n",
    "ax[0].grid()\n"
   ]
  },
  {
   "cell_type": "code",
   "execution_count": 6,
   "metadata": {},
   "outputs": [
    {
     "data": {
      "text/plain": [
       "array([<matplotlib.axes._subplots.AxesSubplot object at 0x7f99862a5160>],\n",
       "      dtype=object)"
      ]
     },
     "execution_count": 6,
     "metadata": {},
     "output_type": "execute_result"
    },
    {
     "data": {
      "image/png": "[encoded data removed]",
      "text/plain": [
       "<Figure size 432x345.6 with 1 Axes>"
      ]
     },
     "metadata": {
      "needs_background": "light"
     },
     "output_type": "display_data"
    }
   ],
   "source": [
    "az.plot_forest(np.flipud(trace_hc_mlr['β0'].T), model_names=[ 'solz'])"
   ]
  },
  {
   "cell_type": "code",
   "execution_count": 48,
   "metadata": {},
   "outputs": [
    {
     "data": {
      "text/plain": [
       "(120, 523)"
      ]
     },
     "execution_count": 48,
     "metadata": {},
     "output_type": "execute_result"
    }
   ],
   "source": [
    "(np.r_[np.repeat(np.atleast_2d(chlor_a),10, axis=0), Lt, La, Lr, rhot, TLg, polcor, Es, brdf,\n",
    "                       tLf, t_sol, t_sen]).shape"
   ]
  },
  {
   "cell_type": "code",
   "execution_count": 62,
   "metadata": {},
   "outputs": [
    {
     "data": {
      "text/plain": [
       "(8, 523)"
      ]
     },
     "execution_count": 62,
     "metadata": {},
     "output_type": "execute_result"
    }
   ],
   "source": [
    "np.repeat(np.atleast_2d(chlor_a),8, axis=0).shape"
   ]
  },
  {
   "cell_type": "code",
   "execution_count": 67,
   "metadata": {},
   "outputs": [
    {
     "data": {
      "text/plain": [
       "(10, 523)"
      ]
     },
     "execution_count": 67,
     "metadata": {},
     "output_type": "execute_result"
    }
   ],
   "source": [
    "Lt.shape"
   ]
  },
  {
   "cell_type": "code",
   "execution_count": 69,
   "metadata": {},
   "outputs": [
    {
     "ename": "ValueError",
     "evalue": "object too deep for desired array",
     "output_type": "error",
     "traceback": [
      "\u001b[0;31m---------------------------------------------------------------------------\u001b[0m",
      "\u001b[0;31mValueError\u001b[0m                                Traceback (most recent call last)",
      "\u001b[0;32m<ipython-input-69-0a2795653b55>\u001b[0m in \u001b[0;36m<module>\u001b[0;34m\u001b[0m\n\u001b[0;32m----> 1\u001b[0;31m \u001b[0mLti\u001b[0m \u001b[0;34m=\u001b[0m \u001b[0mnp\u001b[0m\u001b[0;34m.\u001b[0m\u001b[0minterp\u001b[0m\u001b[0;34m(\u001b[0m\u001b[0mwave\u001b[0m\u001b[0;34m,\u001b[0m \u001b[0mλ\u001b[0m\u001b[0;34m,\u001b[0m \u001b[0mLt\u001b[0m\u001b[0;34m)\u001b[0m\u001b[0;34m\u001b[0m\u001b[0;34m\u001b[0m\u001b[0m\n\u001b[0m",
      "\u001b[0;32m<__array_function__ internals>\u001b[0m in \u001b[0;36minterp\u001b[0;34m(*args, **kwargs)\u001b[0m\n",
      "\u001b[0;32m~/anaconda3/lib/python3.7/site-packages/numpy/lib/function_base.py\u001b[0m in \u001b[0;36minterp\u001b[0;34m(x, xp, fp, left, right, period)\u001b[0m\n\u001b[1;32m   1410\u001b[0m         \u001b[0mfp\u001b[0m \u001b[0;34m=\u001b[0m \u001b[0mnp\u001b[0m\u001b[0;34m.\u001b[0m\u001b[0mconcatenate\u001b[0m\u001b[0;34m(\u001b[0m\u001b[0;34m(\u001b[0m\u001b[0mfp\u001b[0m\u001b[0;34m[\u001b[0m\u001b[0;34m-\u001b[0m\u001b[0;36m1\u001b[0m\u001b[0;34m:\u001b[0m\u001b[0;34m]\u001b[0m\u001b[0;34m,\u001b[0m \u001b[0mfp\u001b[0m\u001b[0;34m,\u001b[0m \u001b[0mfp\u001b[0m\u001b[0;34m[\u001b[0m\u001b[0;36m0\u001b[0m\u001b[0;34m:\u001b[0m\u001b[0;36m1\u001b[0m\u001b[0;34m]\u001b[0m\u001b[0;34m)\u001b[0m\u001b[0;34m)\u001b[0m\u001b[0;34m\u001b[0m\u001b[0;34m\u001b[0m\u001b[0m\n\u001b[1;32m   1411\u001b[0m \u001b[0;34m\u001b[0m\u001b[0m\n\u001b[0;32m-> 1412\u001b[0;31m     \u001b[0;32mreturn\u001b[0m \u001b[0minterp_func\u001b[0m\u001b[0;34m(\u001b[0m\u001b[0mx\u001b[0m\u001b[0;34m,\u001b[0m \u001b[0mxp\u001b[0m\u001b[0;34m,\u001b[0m \u001b[0mfp\u001b[0m\u001b[0;34m,\u001b[0m \u001b[0mleft\u001b[0m\u001b[0;34m,\u001b[0m \u001b[0mright\u001b[0m\u001b[0;34m)\u001b[0m\u001b[0;34m\u001b[0m\u001b[0;34m\u001b[0m\u001b[0m\n\u001b[0m\u001b[1;32m   1413\u001b[0m \u001b[0;34m\u001b[0m\u001b[0m\n\u001b[1;32m   1414\u001b[0m \u001b[0;34m\u001b[0m\u001b[0m\n",
      "\u001b[0;31mValueError\u001b[0m: object too deep for desired array"
     ]
    }
   ],
   "source": [
    "Lti = np.interp(wave, λ, Lt)"
   ]
  },
  {
   "cell_type": "code",
   "execution_count": 78,
   "metadata": {},
   "outputs": [],
   "source": [
    "Lti = interpolate.interp1d(λ, Lt.T)(wave).T"
   ]
  },
  {
   "cell_type": "code",
   "execution_count": 79,
   "metadata": {},
   "outputs": [
    {
     "data": {
      "text/plain": [
       "(8, 523)"
      ]
     },
     "execution_count": 79,
     "metadata": {},
     "output_type": "execute_result"
    }
   ],
   "source": [
    "f, ax = az.plot_forest([np.flipud(trace_hc_mlr['β0'].T), np.flipud(trace_hc_mlr['β1'].T)],\n",
    "               model_names=[ 'solz', 'senz'], figsize=(7,5))\n",
    "ax[0].axvline(0, color='k', ls='--');\n",
    "ax[0].grid()\n",
    "plt.title('Slope, 94.0% Credible Interval', fontsize=16)\n"
   ]
  },
  {
   "cell_type": "code",
   "execution_count": 73,
   "metadata": {},
   "outputs": [
    {
     "data": {
      "text/plain": [
       "(10, 523)"
      ]
     },
     "execution_count": 73,
     "metadata": {},
     "output_type": "execute_result"
    }
   ],
   "source": [
    "Lt.shape"
   ]
  },
  {
   "cell_type": "code",
   "execution_count": 108,
   "metadata": {},
   "outputs": [
    {
     "data": {
      "text/plain": [
       "(121,)"
      ]
     },
     "execution_count": 108,
     "metadata": {},
     "output_type": "execute_result"
    }
   ],
   "source": [
    "chlor_a.shape"
   ]
  },
  {
   "cell_type": "code",
   "execution_count": 122,
   "metadata": {},
   "outputs": [],
   "source": [
    "chlor_a = np.load('chlor_a.npy')\n"
   ]
  },
  {
   "cell_type": "code",
   "execution_count": 126,
   "metadata": {},
   "outputs": [],
   "source": [
    "chlor_a = np.nanmean(chlor_a, axis=0)\n"
   ]
  },
  {
   "cell_type": "code",
   "execution_count": 127,
   "metadata": {},
   "outputs": [
    {
     "data": {
      "image/png": "[encoded data removed]",
      "text/plain": [
       "<Figure size 432x288 with 1 Axes>"
      ]
     },
     "metadata": {
      "needs_background": "light"
     },
     "output_type": "display_data"
    }
   ],
   "source": [
    "plt.plot(chlor_a);"
   ]
  },
  {
   "cell_type": "code",
   "execution_count": 135,
   "metadata": {},
   "outputs": [
    {
     "data": {
      "text/plain": [
       "(209, 8)"
      ]
     },
     "execution_count": 135,
     "metadata": {},
     "output_type": "execute_result"
    }
   ],
   "source": [
    "ndf[Lt_names].shape"
   ]
  },
  {
   "cell_type": "code",
   "execution_count": 136,
   "metadata": {},
   "outputs": [
    {
     "data": {
      "text/plain": [
       "(523, 8)"
      ]
     },
     "execution_count": 136,
     "metadata": {},
     "output_type": "execute_result"
    }
   ],
   "source": [
    "Rrs_mob.shape"
   ]
  },
  {
   "cell_type": "code",
   "execution_count": 139,
   "metadata": {},
   "outputs": [
    {
     "data": {
      "text/plain": [
       "(523, 88)"
      ]
     },
     "execution_count": 139,
     "metadata": {},
     "output_type": "execute_result"
    }
   ],
   "source": [
    "df.shape"
   ]
  },
  {
   "cell_type": "code",
   "execution_count": 177,
   "metadata": {},
   "outputs": [],
   "source": [
    "x1 = np.mean(np.flipud(trace_hc_mlr['β0'].T), axis=1)"
   ]
  },
  {
   "cell_type": "code",
   "execution_count": 179,
   "metadata": {},
   "outputs": [],
   "source": [
    "x2 = np.mean(np.flipud(trace_hc_mlr['β0'].T), axis=1)"
   ]
  },
  {
   "cell_type": "code",
   "execution_count": 180,
   "metadata": {},
   "outputs": [
    {
     "data": {
      "text/plain": [
       "array([-13.1870797 , -15.74644989,   5.05078099,   2.77102436,\n",
       "       -20.548877  , -17.27383202,   0.47054302,  -1.83893478])"
      ]
     },
     "execution_count": 180,
     "metadata": {},
     "output_type": "execute_result"
    }
   ],
   "source": [
    "100*(x1 - x2)/x2"
   ]
  },
  {
   "cell_type": "code",
   "execution_count": 181,
   "metadata": {},
   "outputs": [
    {
     "data": {
      "text/plain": [
       "array([0.22664026, 0.16270022, 0.22241696, 0.2287215 , 0.21212784,\n",
       "       0.48720677, 0.8403203 , 0.88185493])"
      ]
     },
     "execution_count": 181,
     "metadata": {},
     "output_type": "execute_result"
    }
   ],
   "source": [
    "x1"
   ]
  },
  {
   "cell_type": "code",
   "execution_count": 182,
   "metadata": {},
   "outputs": [
    {
     "data": {
      "text/plain": [
       "array([0.26106743, 0.19310785, 0.21172328, 0.22255446, 0.26699163,\n",
       "       0.58893912, 0.83638475, 0.89837546])"
      ]
     },
     "execution_count": 182,
     "metadata": {},
     "output_type": "execute_result"
    }
   ],
   "source": [
    "x2"
   ]
  },
  {
   "cell_type": "code",
   "execution_count": 183,
   "metadata": {},
   "outputs": [
    {
     "data": {
      "text/plain": [
       "array([412, 443, 488, 531, 547, 555, 667, 678])"
      ]
     },
     "execution_count": 183,
     "metadata": {},
     "output_type": "execute_result"
    }
   ],
   "source": [
    "wave"
   ]
  },
  {
   "cell_type": "code",
   "execution_count": 187,
   "metadata": {},
   "outputs": [
    {
     "data": {
      "text/plain": [
       "(523, 8)"
      ]
     },
     "execution_count": 187,
     "metadata": {},
     "output_type": "execute_result"
    }
   ],
   "source": [
    "Rrs_mob.shape"
   ]
  },
  {
   "cell_type": "code",
   "execution_count": 189,
   "metadata": {},
   "outputs": [
    {
     "data": {
      "text/plain": [
       "(8, 523)"
      ]
     },
     "execution_count": 189,
     "metadata": {},
     "output_type": "execute_result"
    }
   ],
   "source": [
    "Lti.shape"
   ]
  },
  {
   "cell_type": "code",
   "execution_count": 220,
   "metadata": {},
   "outputs": [
    {
     "data": {
      "text/plain": [
       "(193, 136)"
      ]
     },
     "execution_count": 220,
     "metadata": {},
     "output_type": "execute_result"
    }
   ],
   "source": [
    "ndf.shape"
   ]
  },
  {
   "cell_type": "code",
   "execution_count": 221,
   "metadata": {},
   "outputs": [
    {
     "data": {
      "text/plain": [
       "(523, 136)"
      ]
     },
     "execution_count": 221,
     "metadata": {},
     "output_type": "execute_result"
    }
   ],
   "source": [
    "df.shape"
   ]
  },
  {
   "cell_type": "code",
   "execution_count": 226,
   "metadata": {},
   "outputs": [],
   "source": [
    "dfn = (df - df.mean())/df.std()"
   ]
  },
  {
   "cell_type": "code",
   "execution_count": 229,
   "metadata": {},
   "outputs": [
    {
     "data": {
      "text/plain": [
       "chlor_a_412    1.0\n",
       "chlor_a_443    1.0\n",
       "chlor_a_488    1.0\n",
       "chlor_a_531    1.0\n",
       "chlor_a_547    1.0\n",
       "              ... \n",
       "t_sen_531      1.0\n",
       "t_sen_547      1.0\n",
       "t_sen_555      1.0\n",
       "t_sen_667      1.0\n",
       "t_sen_678      1.0\n",
       "Length: 136, dtype: float64"
      ]
     },
     "execution_count": 229,
     "metadata": {},
     "output_type": "execute_result"
    }
   ],
   "source": [
    "dfn.std()"
   ]
  },
  {
   "cell_type": "code",
   "execution_count": 162,
   "metadata": {},
   "outputs": [
    {
     "data": {
      "image/png": "[encoded data removed]",
      "text/plain": [
       "<Figure size 432x288 with 1 Axes>"
      ]
     },
     "metadata": {
      "needs_background": "light"
     },
     "output_type": "display_data"
    }
   ],
   "source": [
    "plt.plot(dfn['Rrs_diff_'], dfn['polcor_412'], '.');\n",
    "# plt.ylim([-.25,0])\n",
    "# plt.plot(dfn['Rrs_mob_412'], dfn['scattang_412'], '.');"
   ]
  },
  {
   "cell_type": "code",
   "execution_count": 240,
   "metadata": {},
   "outputs": [
    {
     "data": {
      "text/plain": [
       "<seaborn.axisgrid.FacetGrid at 0x7f99770600f0>"
      ]
     },
     "execution_count": 240,
     "metadata": {},
     "output_type": "execute_result"
    },
    {
     "data": {
      "image/png": "[encoded data removed]",
      "text/plain": [
       "<Figure size 360x360 with 1 Axes>"
      ]
     },
     "metadata": {
      "needs_background": "light"
     },
     "output_type": "display_data"
    }
   ],
   "source": [
    "import seaborn as sns\n",
    "sns.lmplot('Rrs_diff_412', 'polcor_412', dfn, ci=95)\n"
   ]
  },
  {
   "cell_type": "code",
   "execution_count": 244,
   "metadata": {},
   "outputs": [
    {
     "data": {
      "text/plain": [
       "<seaborn.axisgrid.FacetGrid at 0x7f997670f5c0>"
      ]
     },
     "execution_count": 244,
     "metadata": {},
     "output_type": "execute_result"
    },
    {
     "data": {
      "image/png": "[encoded data removed]",
      "text/plain": [
       "<Figure size 360x360 with 1 Axes>"
      ]
     },
     "metadata": {
      "needs_background": "light"
     },
     "output_type": "display_data"
    }
   ],
   "source": [
    "sns.lmplot('Rrs_aqua_555', 'Rrs_mob_555', dfn, ci=95)\n"
   ]
  },
  {
   "cell_type": "code",
   "execution_count": 107,
   "metadata": {},
   "outputs": [
    {
     "data": {
      "text/plain": [
       "(121,)"
      ]
     },
     "execution_count": 107,
     "metadata": {},
     "output_type": "execute_result"
    }
   ],
   "source": [
    "water_vapor.shape"
   ]
  },
  {
   "cell_type": "code",
   "execution_count": 105,
   "metadata": {},
   "outputs": [
    {
     "data": {
      "text/plain": [
       "(10, 523)"
      ]
     },
     "execution_count": 105,
     "metadata": {},
     "output_type": "execute_result"
    }
   ],
   "source": [
    "Lt.shape"
   ]
  },
  {
   "cell_type": "code",
   "execution_count": 112,
   "metadata": {},
   "outputs": [
    {
     "data": {
      "text/html": [
       "<div>\n",
       "<style scoped>\n",
       "    .dataframe tbody tr th:only-of-type {\n",
       "        vertical-align: middle;\n",
       "    }\n",
       "\n",
       "    .dataframe tbody tr th {\n",
       "        vertical-align: top;\n",
       "    }\n",
       "\n",
       "    .dataframe thead th {\n",
       "        text-align: right;\n",
       "    }\n",
       "</style>\n",
       "<table border=\"1\" class=\"dataframe\">\n",
       "  <thead>\n",
       "    <tr style=\"text-align: right;\">\n",
       "      <th></th>\n",
       "      <th>water_vapor_412</th>\n",
       "      <th>water_vapor_443</th>\n",
       "      <th>water_vapor_488</th>\n",
       "      <th>water_vapor_531</th>\n",
       "      <th>water_vapor_547</th>\n",
       "      <th>water_vapor_555</th>\n",
       "      <th>water_vapor_667</th>\n",
       "      <th>water_vapor_678</th>\n",
       "      <th>solz_412</th>\n",
       "      <th>solz_443</th>\n",
       "      <th>...</th>\n",
       "      <th>t_sol_667</th>\n",
       "      <th>t_sol_678</th>\n",
       "      <th>t_sen_412</th>\n",
       "      <th>t_sen_443</th>\n",
       "      <th>t_sen_488</th>\n",
       "      <th>t_sen_531</th>\n",
       "      <th>t_sen_547</th>\n",
       "      <th>t_sen_555</th>\n",
       "      <th>t_sen_667</th>\n",
       "      <th>t_sen_678</th>\n",
       "    </tr>\n",
       "  </thead>\n",
       "  <tbody>\n",
       "    <tr>\n",
       "      <th>0</th>\n",
       "      <td>3.383029</td>\n",
       "      <td>3.383029</td>\n",
       "      <td>3.383029</td>\n",
       "      <td>3.383029</td>\n",
       "      <td>3.383029</td>\n",
       "      <td>3.383029</td>\n",
       "      <td>3.383029</td>\n",
       "      <td>3.383029</td>\n",
       "      <td>21.288834</td>\n",
       "      <td>21.288834</td>\n",
       "      <td>...</td>\n",
       "      <td>0.96860</td>\n",
       "      <td>0.97025</td>\n",
       "      <td>0.83410</td>\n",
       "      <td>0.86610</td>\n",
       "      <td>0.90275</td>\n",
       "      <td>0.92655</td>\n",
       "      <td>0.93375</td>\n",
       "      <td>0.93630</td>\n",
       "      <td>0.96455</td>\n",
       "      <td>0.96635</td>\n",
       "    </tr>\n",
       "    <tr>\n",
       "      <th>1</th>\n",
       "      <td>2.623265</td>\n",
       "      <td>2.623265</td>\n",
       "      <td>2.623265</td>\n",
       "      <td>2.623265</td>\n",
       "      <td>2.623265</td>\n",
       "      <td>2.623265</td>\n",
       "      <td>2.623265</td>\n",
       "      <td>2.623265</td>\n",
       "      <td>19.819389</td>\n",
       "      <td>19.819389</td>\n",
       "      <td>...</td>\n",
       "      <td>0.96860</td>\n",
       "      <td>0.97000</td>\n",
       "      <td>0.85455</td>\n",
       "      <td>0.88325</td>\n",
       "      <td>0.91570</td>\n",
       "      <td>0.93640</td>\n",
       "      <td>0.94260</td>\n",
       "      <td>0.94470</td>\n",
       "      <td>0.96830</td>\n",
       "      <td>0.96970</td>\n",
       "    </tr>\n",
       "    <tr>\n",
       "      <th>2</th>\n",
       "      <td>3.329041</td>\n",
       "      <td>3.329041</td>\n",
       "      <td>3.329041</td>\n",
       "      <td>3.329041</td>\n",
       "      <td>3.329041</td>\n",
       "      <td>3.329041</td>\n",
       "      <td>3.329041</td>\n",
       "      <td>3.329041</td>\n",
       "      <td>23.088837</td>\n",
       "      <td>23.088837</td>\n",
       "      <td>...</td>\n",
       "      <td>0.96810</td>\n",
       "      <td>0.96955</td>\n",
       "      <td>0.85615</td>\n",
       "      <td>0.88470</td>\n",
       "      <td>0.91705</td>\n",
       "      <td>0.93760</td>\n",
       "      <td>0.94375</td>\n",
       "      <td>0.94590</td>\n",
       "      <td>0.96925</td>\n",
       "      <td>0.97065</td>\n",
       "    </tr>\n",
       "    <tr>\n",
       "      <th>3</th>\n",
       "      <td>2.573214</td>\n",
       "      <td>2.573214</td>\n",
       "      <td>2.573214</td>\n",
       "      <td>2.573214</td>\n",
       "      <td>2.573214</td>\n",
       "      <td>2.573214</td>\n",
       "      <td>2.573214</td>\n",
       "      <td>2.573214</td>\n",
       "      <td>32.349957</td>\n",
       "      <td>32.349957</td>\n",
       "      <td>...</td>\n",
       "      <td>0.96660</td>\n",
       "      <td>0.96835</td>\n",
       "      <td>0.79455</td>\n",
       "      <td>0.83265</td>\n",
       "      <td>0.87705</td>\n",
       "      <td>0.90630</td>\n",
       "      <td>0.91530</td>\n",
       "      <td>0.91855</td>\n",
       "      <td>0.95415</td>\n",
       "      <td>0.95645</td>\n",
       "    </tr>\n",
       "    <tr>\n",
       "      <th>4</th>\n",
       "      <td>3.094143</td>\n",
       "      <td>3.094143</td>\n",
       "      <td>3.094143</td>\n",
       "      <td>3.094143</td>\n",
       "      <td>3.094143</td>\n",
       "      <td>3.094143</td>\n",
       "      <td>3.094143</td>\n",
       "      <td>3.094143</td>\n",
       "      <td>22.530502</td>\n",
       "      <td>22.530502</td>\n",
       "      <td>...</td>\n",
       "      <td>0.95875</td>\n",
       "      <td>0.96030</td>\n",
       "      <td>0.77730</td>\n",
       "      <td>0.81455</td>\n",
       "      <td>0.85795</td>\n",
       "      <td>0.88660</td>\n",
       "      <td>0.89530</td>\n",
       "      <td>0.89835</td>\n",
       "      <td>0.93345</td>\n",
       "      <td>0.93560</td>\n",
       "    </tr>\n",
       "    <tr>\n",
       "      <th>...</th>\n",
       "      <td>...</td>\n",
       "      <td>...</td>\n",
       "      <td>...</td>\n",
       "      <td>...</td>\n",
       "      <td>...</td>\n",
       "      <td>...</td>\n",
       "      <td>...</td>\n",
       "      <td>...</td>\n",
       "      <td>...</td>\n",
       "      <td>...</td>\n",
       "      <td>...</td>\n",
       "      <td>...</td>\n",
       "      <td>...</td>\n",
       "      <td>...</td>\n",
       "      <td>...</td>\n",
       "      <td>...</td>\n",
       "      <td>...</td>\n",
       "      <td>...</td>\n",
       "      <td>...</td>\n",
       "      <td>...</td>\n",
       "      <td>...</td>\n",
       "    </tr>\n",
       "    <tr>\n",
       "      <th>518</th>\n",
       "      <td>2.391980</td>\n",
       "      <td>2.391980</td>\n",
       "      <td>2.391980</td>\n",
       "      <td>2.391980</td>\n",
       "      <td>2.391980</td>\n",
       "      <td>2.391980</td>\n",
       "      <td>2.391980</td>\n",
       "      <td>2.391980</td>\n",
       "      <td>23.630501</td>\n",
       "      <td>23.630501</td>\n",
       "      <td>...</td>\n",
       "      <td>0.96530</td>\n",
       "      <td>0.96680</td>\n",
       "      <td>0.79030</td>\n",
       "      <td>0.82785</td>\n",
       "      <td>0.87150</td>\n",
       "      <td>0.90020</td>\n",
       "      <td>0.90900</td>\n",
       "      <td>0.91205</td>\n",
       "      <td>0.94640</td>\n",
       "      <td>0.94855</td>\n",
       "    </tr>\n",
       "    <tr>\n",
       "      <th>519</th>\n",
       "      <td>2.691465</td>\n",
       "      <td>2.691465</td>\n",
       "      <td>2.691465</td>\n",
       "      <td>2.691465</td>\n",
       "      <td>2.691465</td>\n",
       "      <td>2.691465</td>\n",
       "      <td>2.691465</td>\n",
       "      <td>2.691465</td>\n",
       "      <td>30.061066</td>\n",
       "      <td>30.061066</td>\n",
       "      <td>...</td>\n",
       "      <td>0.97180</td>\n",
       "      <td>0.97345</td>\n",
       "      <td>0.84255</td>\n",
       "      <td>0.87440</td>\n",
       "      <td>0.91075</td>\n",
       "      <td>0.93405</td>\n",
       "      <td>0.94115</td>\n",
       "      <td>0.94365</td>\n",
       "      <td>0.97095</td>\n",
       "      <td>0.97265</td>\n",
       "    </tr>\n",
       "    <tr>\n",
       "      <th>520</th>\n",
       "      <td>2.821936</td>\n",
       "      <td>2.821936</td>\n",
       "      <td>2.821936</td>\n",
       "      <td>2.821936</td>\n",
       "      <td>2.821936</td>\n",
       "      <td>2.821936</td>\n",
       "      <td>2.821936</td>\n",
       "      <td>2.821936</td>\n",
       "      <td>22.480499</td>\n",
       "      <td>22.480499</td>\n",
       "      <td>...</td>\n",
       "      <td>0.96035</td>\n",
       "      <td>0.96195</td>\n",
       "      <td>0.80580</td>\n",
       "      <td>0.83995</td>\n",
       "      <td>0.87940</td>\n",
       "      <td>0.90515</td>\n",
       "      <td>0.91300</td>\n",
       "      <td>0.91580</td>\n",
       "      <td>0.94700</td>\n",
       "      <td>0.94900</td>\n",
       "    </tr>\n",
       "    <tr>\n",
       "      <th>521</th>\n",
       "      <td>2.785033</td>\n",
       "      <td>2.785033</td>\n",
       "      <td>2.785033</td>\n",
       "      <td>2.785033</td>\n",
       "      <td>2.785033</td>\n",
       "      <td>2.785033</td>\n",
       "      <td>2.785033</td>\n",
       "      <td>2.785033</td>\n",
       "      <td>29.869396</td>\n",
       "      <td>29.869396</td>\n",
       "      <td>...</td>\n",
       "      <td>0.96900</td>\n",
       "      <td>0.97070</td>\n",
       "      <td>0.81725</td>\n",
       "      <td>0.85240</td>\n",
       "      <td>0.89300</td>\n",
       "      <td>0.91950</td>\n",
       "      <td>0.92755</td>\n",
       "      <td>0.93045</td>\n",
       "      <td>0.96245</td>\n",
       "      <td>0.96450</td>\n",
       "    </tr>\n",
       "    <tr>\n",
       "      <th>522</th>\n",
       "      <td>2.767101</td>\n",
       "      <td>2.767101</td>\n",
       "      <td>2.767101</td>\n",
       "      <td>2.767101</td>\n",
       "      <td>2.767101</td>\n",
       "      <td>2.767101</td>\n",
       "      <td>2.767101</td>\n",
       "      <td>2.767101</td>\n",
       "      <td>27.119396</td>\n",
       "      <td>27.119396</td>\n",
       "      <td>...</td>\n",
       "      <td>0.96825</td>\n",
       "      <td>0.96995</td>\n",
       "      <td>0.84970</td>\n",
       "      <td>0.87965</td>\n",
       "      <td>0.91350</td>\n",
       "      <td>0.93535</td>\n",
       "      <td>0.94200</td>\n",
       "      <td>0.94435</td>\n",
       "      <td>0.97010</td>\n",
       "      <td>0.97175</td>\n",
       "    </tr>\n",
       "  </tbody>\n",
       "</table>\n",
       "<p>523 rows × 208 columns</p>\n",
       "</div>"
      ],
      "text/plain": [
       "     water_vapor_412  water_vapor_443  water_vapor_488  water_vapor_531  \\\n",
       "0           3.383029         3.383029         3.383029         3.383029   \n",
       "1           2.623265         2.623265         2.623265         2.623265   \n",
       "2           3.329041         3.329041         3.329041         3.329041   \n",
       "3           2.573214         2.573214         2.573214         2.573214   \n",
       "4           3.094143         3.094143         3.094143         3.094143   \n",
       "..               ...              ...              ...              ...   \n",
       "518         2.391980         2.391980         2.391980         2.391980   \n",
       "519         2.691465         2.691465         2.691465         2.691465   \n",
       "520         2.821936         2.821936         2.821936         2.821936   \n",
       "521         2.785033         2.785033         2.785033         2.785033   \n",
       "522         2.767101         2.767101         2.767101         2.767101   \n",
       "\n",
       "     water_vapor_547  water_vapor_555  water_vapor_667  water_vapor_678  \\\n",
       "0           3.383029         3.383029         3.383029         3.383029   \n",
       "1           2.623265         2.623265         2.623265         2.623265   \n",
       "2           3.329041         3.329041         3.329041         3.329041   \n",
       "3           2.573214         2.573214         2.573214         2.573214   \n",
       "4           3.094143         3.094143         3.094143         3.094143   \n",
       "..               ...              ...              ...              ...   \n",
       "518         2.391980         2.391980         2.391980         2.391980   \n",
       "519         2.691465         2.691465         2.691465         2.691465   \n",
       "520         2.821936         2.821936         2.821936         2.821936   \n",
       "521         2.785033         2.785033         2.785033         2.785033   \n",
       "522         2.767101         2.767101         2.767101         2.767101   \n",
       "\n",
       "      solz_412   solz_443  ...  t_sol_667  t_sol_678  t_sen_412  t_sen_443  \\\n",
       "0    21.288834  21.288834  ...    0.96860    0.97025    0.83410    0.86610   \n",
       "1    19.819389  19.819389  ...    0.96860    0.97000    0.85455    0.88325   \n",
       "2    23.088837  23.088837  ...    0.96810    0.96955    0.85615    0.88470   \n",
       "3    32.349957  32.349957  ...    0.96660    0.96835    0.79455    0.83265   \n",
       "4    22.530502  22.530502  ...    0.95875    0.96030    0.77730    0.81455   \n",
       "..         ...        ...  ...        ...        ...        ...        ...   \n",
       "518  23.630501  23.630501  ...    0.96530    0.96680    0.79030    0.82785   \n",
       "519  30.061066  30.061066  ...    0.97180    0.97345    0.84255    0.87440   \n",
       "520  22.480499  22.480499  ...    0.96035    0.96195    0.80580    0.83995   \n",
       "521  29.869396  29.869396  ...    0.96900    0.97070    0.81725    0.85240   \n",
       "522  27.119396  27.119396  ...    0.96825    0.96995    0.84970    0.87965   \n",
       "\n",
       "     t_sen_488  t_sen_531  t_sen_547  t_sen_555  t_sen_667  t_sen_678  \n",
       "0      0.90275    0.92655    0.93375    0.93630    0.96455    0.96635  \n",
       "1      0.91570    0.93640    0.94260    0.94470    0.96830    0.96970  \n",
       "2      0.91705    0.93760    0.94375    0.94590    0.96925    0.97065  \n",
       "3      0.87705    0.90630    0.91530    0.91855    0.95415    0.95645  \n",
       "4      0.85795    0.88660    0.89530    0.89835    0.93345    0.93560  \n",
       "..         ...        ...        ...        ...        ...        ...  \n",
       "518    0.87150    0.90020    0.90900    0.91205    0.94640    0.94855  \n",
       "519    0.91075    0.93405    0.94115    0.94365    0.97095    0.97265  \n",
       "520    0.87940    0.90515    0.91300    0.91580    0.94700    0.94900  \n",
       "521    0.89300    0.91950    0.92755    0.93045    0.96245    0.96450  \n",
       "522    0.91350    0.93535    0.94200    0.94435    0.97010    0.97175  \n",
       "\n",
       "[523 rows x 208 columns]"
      ]
     },
     "execution_count": 112,
     "metadata": {},
     "output_type": "execute_result"
    }
   ],
   "source": [
    "df"
   ]
  },
  {
   "cell_type": "code",
   "execution_count": 120,
   "metadata": {},
   "outputs": [
    {
     "data": {
      "text/plain": [
       "(8, 523)"
      ]
     },
     "execution_count": 120,
     "metadata": {},
     "output_type": "execute_result"
    }
   ],
   "source": [
    "Lwi.shape"
   ]
  },
  {
   "cell_type": "code",
   "execution_count": 116,
   "metadata": {},
   "outputs": [
    {
     "data": {
      "text/plain": [
       "(8, 523)"
      ]
     },
     "execution_count": 116,
     "metadata": {},
     "output_type": "execute_result"
    }
   ],
   "source": [
    "Lti.shape"
   ]
  },
  {
   "cell_type": "code",
   "execution_count": 124,
   "metadata": {},
   "outputs": [
    {
     "data": {
      "text/plain": [
       "(10, 121, 523)"
      ]
     },
     "execution_count": 124,
     "metadata": {},
     "output_type": "execute_result"
    }
   ],
   "source": [
    "tg_sen.shape"
   ]
  },
  {
   "cell_type": "code",
   "execution_count": 122,
   "metadata": {},
   "outputs": [
    {
     "data": {
      "text/plain": [
       "(10, 523)"
      ]
     },
     "execution_count": 122,
     "metadata": {},
     "output_type": "execute_result"
    }
   ],
   "source": [
    "tg_sol.shape"
   ]
  },
  {
   "cell_type": "code",
   "execution_count": 131,
   "metadata": {},
   "outputs": [
    {
     "name": "stderr",
     "output_type": "stream",
     "text": [
      "/accounts/aibrahi2/anaconda3/lib/python3.7/site-packages/numpy/lib/nanfunctions.py:1116: RuntimeWarning: All-NaN slice encountered\n",
      "  overwrite_input=overwrite_input)\n"
     ]
    }
   ],
   "source": [
    "tg_sen = np.load('tg_sen.npy')\n",
    "tg_sen[(tg_sen<0) | (tg_sen > 10)] = np.nan\n",
    "tg_sen = np.nanmedian(tg_sen, axis=1)\n"
   ]
  },
  {
   "cell_type": "code",
   "execution_count": 132,
   "metadata": {},
   "outputs": [
    {
     "data": {
      "text/plain": [
       "(10, 523)"
      ]
     },
     "execution_count": 132,
     "metadata": {},
     "output_type": "execute_result"
    }
   ],
   "source": [
    "tg_sen.shape"
   ]
  },
  {
   "cell_type": "code",
   "execution_count": 135,
   "metadata": {},
   "outputs": [],
   "source": [
    "np.save('moby_df', df)"
   ]
  },
  {
   "cell_type": "code",
   "execution_count": 136,
   "metadata": {},
   "outputs": [],
   "source": [
    "df.to_pickle('moby_df')  "
   ]
  },
  {
   "cell_type": "code",
   "execution_count": 154,
   "metadata": {},
   "outputs": [
    {
     "data": {
      "text/plain": [
       "(array([424.,  28.,  14.,  10.,   6.,   6.,   5.,   4.,   4.,   6.]),\n",
       " array([2.61495469e-14, 4.90789721e-04, 9.81579442e-04, 1.47236916e-03,\n",
       "        1.96315888e-03, 2.45394860e-03, 2.94473832e-03, 3.43552805e-03,\n",
       "        3.92631777e-03, 4.41710749e-03, 4.90789721e-03]),\n",
       " <a list of 10 Patch objects>)"
      ]
     },
     "execution_count": 154,
     "metadata": {},
     "output_type": "execute_result"
    },
    {
     "data": {
      "image/png": "[encoded data removed]",
      "text/plain": [
       "<Figure size 432x288 with 1 Axes>"
      ]
     },
     "metadata": {
      "needs_background": "light"
     },
     "output_type": "display_data"
    }
   ],
   "source": [
    "plt.hist(df['glint_coef_678'])"
   ]
  },
  {
   "cell_type": "code",
   "execution_count": null,
   "metadata": {},
   "outputs": [],
   "source": [
    "sns.pairplot()"
   ]
  }
 ],
 "metadata": {
  "kernelspec": {
   "display_name": "Python 3",
   "language": "python",
   "name": "python3"
  },
  "language_info": {
   "codemirror_mode": {
    "name": "ipython",
    "version": 3
   },
   "file_extension": ".py",
   "mimetype": "text/x-python",
   "name": "python",
   "nbconvert_exporter": "python",
   "pygments_lexer": "ipython3",
   "version": "3.7.3"
  }
 },
 "nbformat": 4,
 "nbformat_minor": 4
}
